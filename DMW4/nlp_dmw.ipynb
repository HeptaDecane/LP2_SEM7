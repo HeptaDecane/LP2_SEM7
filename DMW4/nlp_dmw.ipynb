{
 "cells": [
  {
   "cell_type": "code",
   "execution_count": 1,
   "metadata": {},
   "outputs": [],
   "source": [
    "from sklearn.feature_extraction.text import TfidfVectorizer\n",
    "import pandas as pd\n",
    "import numpy as np\n",
    "from sklearn.model_selection import train_test_split\n",
    "from sklearn.naive_bayes import MultinomialNB"
   ]
  },
  {
   "cell_type": "code",
   "execution_count": 2,
   "metadata": {},
   "outputs": [
    {
     "data": {
      "text/html": [
       "<div>\n",
       "<style scoped>\n",
       "    .dataframe tbody tr th:only-of-type {\n",
       "        vertical-align: middle;\n",
       "    }\n",
       "\n",
       "    .dataframe tbody tr th {\n",
       "        vertical-align: top;\n",
       "    }\n",
       "\n",
       "    .dataframe thead th {\n",
       "        text-align: right;\n",
       "    }\n",
       "</style>\n",
       "<table border=\"1\" class=\"dataframe\">\n",
       "  <thead>\n",
       "    <tr style=\"text-align: right;\">\n",
       "      <th></th>\n",
       "      <th>review</th>\n",
       "      <th>sentiment</th>\n",
       "    </tr>\n",
       "  </thead>\n",
       "  <tbody>\n",
       "    <tr>\n",
       "      <th>0</th>\n",
       "      <td>One of the other reviewers has mentioned that ...</td>\n",
       "      <td>positive</td>\n",
       "    </tr>\n",
       "    <tr>\n",
       "      <th>1</th>\n",
       "      <td>A wonderful little production. &lt;br /&gt;&lt;br /&gt;The...</td>\n",
       "      <td>positive</td>\n",
       "    </tr>\n",
       "    <tr>\n",
       "      <th>2</th>\n",
       "      <td>I thought this was a wonderful way to spend ti...</td>\n",
       "      <td>positive</td>\n",
       "    </tr>\n",
       "    <tr>\n",
       "      <th>3</th>\n",
       "      <td>Basically there's a family where a little boy ...</td>\n",
       "      <td>negative</td>\n",
       "    </tr>\n",
       "    <tr>\n",
       "      <th>4</th>\n",
       "      <td>Petter Mattei's \"Love in the Time of Money\" is...</td>\n",
       "      <td>positive</td>\n",
       "    </tr>\n",
       "  </tbody>\n",
       "</table>\n",
       "</div>"
      ],
      "text/plain": [
       "                                              review sentiment\n",
       "0  One of the other reviewers has mentioned that ...  positive\n",
       "1  A wonderful little production. <br /><br />The...  positive\n",
       "2  I thought this was a wonderful way to spend ti...  positive\n",
       "3  Basically there's a family where a little boy ...  negative\n",
       "4  Petter Mattei's \"Love in the Time of Money\" is...  positive"
      ]
     },
     "execution_count": 2,
     "metadata": {},
     "output_type": "execute_result"
    }
   ],
   "source": [
    "data = pd.read_csv('IMDB Dataset.csv')\n",
    "data.head()"
   ]
  },
  {
   "cell_type": "code",
   "execution_count": 3,
   "metadata": {},
   "outputs": [],
   "source": [
    "data['sentiment'] = data['sentiment'].map({'positive':1, 'negative':2})"
   ]
  },
  {
   "cell_type": "code",
   "execution_count": 4,
   "metadata": {},
   "outputs": [],
   "source": [
    "x=data['review']\n",
    "y=data['sentiment']"
   ]
  },
  {
   "cell_type": "code",
   "execution_count": 5,
   "metadata": {
    "scrolled": true
   },
   "outputs": [],
   "source": [
    "x = [i.replace('<br />', '') for i in x]\n",
    "x = [i.replace('\\s', 's') for i in x]"
   ]
  },
  {
   "cell_type": "code",
   "execution_count": 62,
   "metadata": {},
   "outputs": [
    {
     "data": {
      "text/plain": [
       "0        1\n",
       "1        1\n",
       "2        1\n",
       "3        2\n",
       "4        1\n",
       "        ..\n",
       "49995    1\n",
       "49996    2\n",
       "49997    2\n",
       "49998    2\n",
       "49999    2\n",
       "Name: sentiment, Length: 50000, dtype: int64"
      ]
     },
     "execution_count": 62,
     "metadata": {},
     "output_type": "execute_result"
    }
   ],
   "source": [
    "y"
   ]
  },
  {
   "cell_type": "code",
   "execution_count": 63,
   "metadata": {},
   "outputs": [],
   "source": [
    "vectorizer_tfidf = TfidfVectorizer(stop_words = 'english') "
   ]
  },
  {
   "cell_type": "code",
   "execution_count": 64,
   "metadata": {},
   "outputs": [],
   "source": [
    "x_train, x_test, y_train, y_test = train_test_split(x,y,test_size=0.25,shuffle=False)"
   ]
  },
  {
   "cell_type": "code",
   "execution_count": 65,
   "metadata": {},
   "outputs": [],
   "source": [
    "x_train_vec = vectorizer_tfidf.fit_transform(x_train)"
   ]
  },
  {
   "cell_type": "code",
   "execution_count": 66,
   "metadata": {},
   "outputs": [
    {
     "name": "stdout",
     "output_type": "stream",
     "text": [
      "  (0, 20533)\t0.07594173231957477\n",
      "  (0, 82825)\t0.058367113261638195\n",
      "  (0, 81267)\t0.06383117990950907\n",
      "  (0, 87467)\t0.05355312015104057\n",
      "  (0, 84913)\t0.07299221723018025\n",
      "  (0, 16917)\t0.07407069790795343\n",
      "  (0, 28405)\t0.04897006964660852\n",
      "  (0, 74273)\t0.06644768319570975\n",
      "  (0, 77914)\t0.05620317654806377\n",
      "  (0, 46008)\t0.04950464905078183\n",
      "  (0, 9455)\t0.10052876834520749\n",
      "  (0, 84185)\t0.05062706876970766\n",
      "  (0, 15902)\t0.05263338925718544\n",
      "  (0, 52363)\t0.0509050167962195\n",
      "  (0, 50087)\t0.0857722821418323\n",
      "  (0, 58094)\t0.05078764838638907\n",
      "  (0, 44874)\t0.04903942808169445\n",
      "  (0, 41317)\t0.17228322419035963\n",
      "  (0, 56065)\t0.10625770612601676\n",
      "  (0, 75397)\t0.07064131950138874\n",
      "  (0, 35583)\t0.08093499100024586\n",
      "  (0, 19483)\t0.084564822718198\n",
      "  (0, 41298)\t0.08523938363879228\n",
      "  (0, 34933)\t0.06712275933726218\n",
      "  (0, 47340)\t0.0667980987382312\n",
      "  :\t:\n",
      "  (37499, 30147)\t0.09622020278944149\n",
      "  (37499, 6965)\t0.1309297099469596\n",
      "  (37499, 8499)\t0.12270681417631772\n",
      "  (37499, 54300)\t0.09065970986361821\n",
      "  (37499, 57549)\t0.07096050632731758\n",
      "  (37499, 37747)\t0.23657400137732054\n",
      "  (37499, 9531)\t0.06778112325936907\n",
      "  (37499, 79102)\t0.060127429794995496\n",
      "  (37499, 71851)\t0.04547917899950881\n",
      "  (37499, 2178)\t0.09077085373209096\n",
      "  (37499, 60464)\t0.04282816348743424\n",
      "  (37499, 41533)\t0.06378896098707695\n",
      "  (37499, 47615)\t0.06323222042156293\n",
      "  (37499, 49672)\t0.08572584434608621\n",
      "  (37499, 57594)\t0.07669935202054814\n",
      "  (37499, 54265)\t0.07993042513262168\n",
      "  (37499, 30026)\t0.08862623668226324\n",
      "  (37499, 81696)\t0.05609385604337328\n",
      "  (37499, 47530)\t0.048387153291926346\n",
      "  (37499, 50711)\t0.09162618120515893\n",
      "  (37499, 2218)\t0.05235283532514523\n",
      "  (37499, 72093)\t0.06302517085098296\n",
      "  (37499, 70703)\t0.05734992651894421\n",
      "  (37499, 49598)\t0.19106805699830945\n",
      "  (37499, 81567)\t0.05182455010772026\n"
     ]
    }
   ],
   "source": [
    "print(x_train_vec)"
   ]
  },
  {
   "cell_type": "code",
   "execution_count": 67,
   "metadata": {},
   "outputs": [
    {
     "name": "stdout",
     "output_type": "stream",
     "text": [
      "  (0, 91602)\t0.14939164825762885\n",
      "  (0, 91223)\t0.060471179399643166\n",
      "  (0, 90878)\t0.16066043393157478\n",
      "  (0, 90744)\t0.17573659136897052\n",
      "  (0, 90375)\t0.05916463986260935\n",
      "  (0, 90173)\t0.07402988543612228\n",
      "  (0, 89604)\t0.07072362455878622\n",
      "  (0, 88755)\t0.0845761577553766\n",
      "  (0, 88419)\t0.057792223409910276\n",
      "  (0, 87233)\t0.244785099600971\n",
      "  (0, 86052)\t0.1449081587245077\n",
      "  (0, 83023)\t0.10860533166756328\n",
      "  (0, 80898)\t0.12200114187744449\n",
      "  (0, 79826)\t0.14058343351783897\n",
      "  (0, 79473)\t0.09228750137816208\n",
      "  (0, 78509)\t0.09252400026602989\n",
      "  (0, 77729)\t0.08238879718460539\n",
      "  (0, 74372)\t0.16981615766103683\n",
      "  (0, 73896)\t0.07978359181439088\n",
      "  (0, 73371)\t0.11969700744282442\n",
      "  (0, 73278)\t0.1309467934322924\n",
      "  (0, 72109)\t0.11159721863638963\n",
      "  (0, 70002)\t0.06650811334915453\n",
      "  (0, 68944)\t0.06216874228691517\n",
      "  (0, 67846)\t0.22691577838921786\n",
      "  :\t:\n",
      "  (12499, 46974)\t0.09794359428261766\n",
      "  (12499, 45345)\t0.1138746461510695\n",
      "  (12499, 45059)\t0.19096874142882783\n",
      "  (12499, 43867)\t0.05054150075646585\n",
      "  (12499, 41708)\t0.19323568942997374\n",
      "  (12499, 40650)\t0.1152344808347188\n",
      "  (12499, 40343)\t0.1741672401555403\n",
      "  (12499, 37973)\t0.09785428615621691\n",
      "  (12499, 36681)\t0.13151847110981862\n",
      "  (12499, 34524)\t0.16233389975795456\n",
      "  (12499, 34461)\t0.05310200906141328\n",
      "  (12499, 29178)\t0.17843815314426772\n",
      "  (12499, 29134)\t0.10991422758225962\n",
      "  (12499, 29080)\t0.10002987517058333\n",
      "  (12499, 28377)\t0.1891663665668354\n",
      "  (12499, 28364)\t0.11273415596515891\n",
      "  (12499, 27279)\t0.1272885941339425\n",
      "  (12499, 19334)\t0.20648381311692227\n",
      "  (12499, 14552)\t0.06996599731460251\n",
      "  (12499, 14476)\t0.17869714829829156\n",
      "  (12499, 14427)\t0.11480445518937489\n",
      "  (12499, 12615)\t0.15014810852393132\n",
      "  (12499, 8906)\t0.07151323000333204\n",
      "  (12499, 6587)\t0.12247433173871941\n",
      "  (12499, 5573)\t0.11499058269344122\n"
     ]
    }
   ],
   "source": [
    "x_test_vec = vectorizer_tfidf.transform(x_test)\n",
    "print(x_test_vec)"
   ]
  },
  {
   "cell_type": "code",
   "execution_count": 68,
   "metadata": {},
   "outputs": [
    {
     "data": {
      "text/plain": [
       "MultinomialNB()"
      ]
     },
     "execution_count": 68,
     "metadata": {},
     "output_type": "execute_result"
    }
   ],
   "source": [
    "nb = MultinomialNB()\n",
    "nb.fit(x_train_vec, y_train)"
   ]
  },
  {
   "cell_type": "code",
   "execution_count": 69,
   "metadata": {},
   "outputs": [
    {
     "data": {
      "text/plain": [
       "0.86696"
      ]
     },
     "execution_count": 69,
     "metadata": {},
     "output_type": "execute_result"
    }
   ],
   "source": [
    "nb.score(x_test_vec,y_test)"
   ]
  },
  {
   "cell_type": "code",
   "execution_count": 70,
   "metadata": {},
   "outputs": [],
   "source": [
    "pred = nb.predict(x_test_vec)"
   ]
  },
  {
   "cell_type": "code",
   "execution_count": 71,
   "metadata": {},
   "outputs": [
    {
     "name": "stdout",
     "output_type": "stream",
     "text": [
      "Prediction Shape :  (12500,)\n",
      "Actual Shape :  (12500,)\n"
     ]
    }
   ],
   "source": [
    "print('Prediction Shape : ', pred.shape)\n",
    "print('Actual Shape : ', y_test.shape)"
   ]
  },
  {
   "cell_type": "code",
   "execution_count": 72,
   "metadata": {},
   "outputs": [
    {
     "name": "stdout",
     "output_type": "stream",
     "text": [
      "Precision :  0.8784584980237155\n",
      "Recall :  0.8522128135484902\n",
      "F1 Score :  0.8651366474738464\n"
     ]
    }
   ],
   "source": [
    "from sklearn.metrics import precision_score, recall_score, f1_score\n",
    "\n",
    "print('Precision : ',precision_score(y_test, pred, average = \"binary\"))\n",
    "print('Recall : ',recall_score(y_test, pred, average = \"binary\"))\n",
    "print('F1 Score : ',f1_score(y_test, pred, average = \"binary\"))"
   ]
  },
  {
   "cell_type": "code",
   "execution_count": 73,
   "metadata": {},
   "outputs": [],
   "source": [
    "my_review = [\"From the co-writers of the Favorite, The Great is a terrific short series that will leave you in stitches owing to its humor and sheer ridiculousness. It's the best series that I've personally watched in a long time.\"]\n",
    "my_review_neg = [\"The more one sees the main characters, the less appealing they become. Luke Skywalker is a whiner and just bad, Han Solo a bad sarcastic clod, Princess Leia a horrible nag, and C-3PO just a drone.\"]\n",
    "my_review_pos = [\"Dead To Me was a series that both of us binged on and we just couldn’t stop asking for more. We are so glad that this series received four Emmy nominations and season three which would also be the final season (insert crying gif) is in the making!\"]"
   ]
  },
  {
   "cell_type": "code",
   "execution_count": 74,
   "metadata": {},
   "outputs": [],
   "source": [
    "vectorizer2 = TfidfVectorizer(stop_words = 'english') \n",
    "my_review_vec = vectorizer2.fit_transform(my_review)\n",
    "my_review_vec_pos = vectorizer_tfidf.transform(my_review_pos)\n",
    "my_review_vec_neg = vectorizer_tfidf.transform(my_review_neg)"
   ]
  },
  {
   "cell_type": "code",
   "execution_count": 75,
   "metadata": {},
   "outputs": [
    {
     "data": {
      "text/plain": [
       "{'writers': 17,\n",
       " 'favorite': 1,\n",
       " 'great': 2,\n",
       " 'terrific': 13,\n",
       " 'short': 11,\n",
       " 'series': 9,\n",
       " 'leave': 4,\n",
       " 'stitches': 12,\n",
       " 'owing': 6,\n",
       " 'humor': 3,\n",
       " 'sheer': 10,\n",
       " 'ridiculousness': 8,\n",
       " 'best': 0,\n",
       " 've': 15,\n",
       " 'personally': 7,\n",
       " 'watched': 16,\n",
       " 'long': 5,\n",
       " 'time': 14}"
      ]
     },
     "execution_count": 75,
     "metadata": {},
     "output_type": "execute_result"
    }
   ],
   "source": [
    "vectorizer2.vocabulary_"
   ]
  },
  {
   "cell_type": "code",
   "execution_count": 76,
   "metadata": {},
   "outputs": [
    {
     "data": {
      "text/plain": [
       "array([1])"
      ]
     },
     "execution_count": 76,
     "metadata": {},
     "output_type": "execute_result"
    }
   ],
   "source": [
    "pred_1 = nb.predict(my_review_vec_pos)\n",
    "pred_1"
   ]
  },
  {
   "cell_type": "code",
   "execution_count": 77,
   "metadata": {},
   "outputs": [
    {
     "data": {
      "text/plain": [
       "array([2])"
      ]
     },
     "execution_count": 77,
     "metadata": {},
     "output_type": "execute_result"
    }
   ],
   "source": [
    "pred_2 = nb.predict(my_review_vec_neg)\n",
    "pred_2"
   ]
  }
 ],
 "metadata": {
  "kernelspec": {
   "display_name": "Python 3",
   "language": "python",
   "name": "python3"
  },
  "language_info": {
   "codemirror_mode": {
    "name": "ipython",
    "version": 3
   },
   "file_extension": ".py",
   "mimetype": "text/x-python",
   "name": "python",
   "nbconvert_exporter": "python",
   "pygments_lexer": "ipython3",
   "version": "3.8.4"
  }
 },
 "nbformat": 4,
 "nbformat_minor": 4
}
