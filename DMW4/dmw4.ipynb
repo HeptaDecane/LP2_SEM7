{
 "cells": [
  {
   "cell_type": "code",
   "execution_count": 1,
   "metadata": {},
   "outputs": [],
   "source": [
    "import nltk\n",
    "import ssl"
   ]
  },
  {
   "cell_type": "code",
   "execution_count": 2,
   "metadata": {},
   "outputs": [
    {
     "name": "stdout",
     "output_type": "stream",
     "text": [
      "showing info https://raw.githubusercontent.com/nltk/nltk_data/gh-pages/index.xml\n"
     ]
    },
    {
     "data": {
      "text/plain": [
       "True"
      ]
     },
     "execution_count": 2,
     "metadata": {},
     "output_type": "execute_result"
    }
   ],
   "source": [
    "try:\n",
    "    _create_unverified_https_context = ssl._create_unverified_context\n",
    "except AttributeError:\n",
    "    pass\n",
    "else:\n",
    "    ssl._create_default_https_context = _create_unverified_https_context\n",
    "\n",
    "nltk.download()"
   ]
  },
  {
   "cell_type": "code",
   "execution_count": 3,
   "metadata": {},
   "outputs": [],
   "source": [
    "from nltk.corpus import stopwords\n",
    "from nltk.tokenize import word_tokenize\n",
    "from nltk.stem import PorterStemmer"
   ]
  },
  {
   "cell_type": "code",
   "execution_count": 4,
   "metadata": {},
   "outputs": [],
   "source": [
    "from sklearn.feature_extraction.text import CountVectorizer"
   ]
  },
  {
   "cell_type": "code",
   "execution_count": 5,
   "metadata": {},
   "outputs": [
    {
     "name": "stdout",
     "output_type": "stream",
     "text": [
      "{'further', 'above', 'until', \"don't\", 'that', 'a', \"she's\", \"hadn't\", 'yours', 'few', 'do', 'is', 'and', 'each', 'am', 'why', 'or', 'd', 'themselves', 'be', 'out', 'some', 'shan', 'below', \"aren't\", 'as', 'not', 'under', \"needn't\", 'needn', 'my', 'again', 'aren', 'than', 'were', 'did', 'between', 'on', \"couldn't\", 'm', \"mightn't\", 'll', \"you've\", 'his', 'which', 'has', 'who', 'he', 'had', 'hers', 'she', 'in', 'when', 'both', \"isn't\", 'whom', 'ain', 'only', 'couldn', 'then', \"it's\", 'doing', 'y', 'their', 'about', 'an', 'can', 'so', 'doesn', 'if', 'does', 'once', 's', 'now', \"you're\", 'by', 'yourself', 'are', \"should've\", 'wouldn', 'they', 'all', 'don', 'any', 'after', 'during', 'to', 'this', 'your', 'own', 'we', 'i', 'there', 'same', 'what', 'how', 'myself', \"won't\", 'hadn', 'mustn', 'our', 'them', 'it', 'just', \"you'll\", 'up', 'here', 'herself', 'being', 'more', 'nor', \"shouldn't\", 'where', 'shouldn', 'mightn', 'weren', 'you', 'the', 'ma', 'against', 'was', \"that'll\", 'these', 'at', 'him', 'itself', 'from', 'o', 't', \"wouldn't\", 'no', 'because', 're', 've', 'while', 'for', 'too', 'been', 'didn', 'theirs', 'such', 'her', 'will', \"haven't\", 'wasn', 'ourselves', 'other', 'isn', \"wasn't\", 'into', 'most', 'down', 'off', \"didn't\", \"doesn't\", \"you'd\", 'very', 'hasn', \"hasn't\", \"shan't\", \"weren't\", 'with', 'having', 'won', 'haven', 'over', 'ours', 'through', 'its', 'have', 'me', \"mustn't\", 'yourselves', 'of', 'those', 'himself', 'should', 'but', 'before'}\n",
      "['Programmer', 'writes', 'programs', 'with', 'programming', 'languages']\n",
      "['Programmer', 'writes', 'programs', 'programming', 'languages']\n"
     ]
    }
   ],
   "source": [
    "text = \"Programmer writes programs with programming languages\"\n",
    "\n",
    "stop_words = set(stopwords.words('english'))\n",
    "print(stop_words)\n",
    "\n",
    "word_tokens = word_tokenize(text);\n",
    "\n",
    "filtered_tokens = []\n",
    "\n",
    "for w in word_tokens: \n",
    "    if w not in stop_words:\n",
    "        filtered_tokens.append(w)\n",
    "    \n",
    "print(word_tokens)\n",
    "print(filtered_tokens)"
   ]
  },
  {
   "cell_type": "code",
   "execution_count": 8,
   "metadata": {},
   "outputs": [
    {
     "data": {
      "text/plain": [
       "TfidfVectorizer()"
      ]
     },
     "execution_count": 8,
     "metadata": {},
     "output_type": "execute_result"
    }
   ],
   "source": [
    "from sklearn.feature_extraction.text import TfidfVectorizer\n",
    "\n",
    "newcorpus = [\"data mining is a good domain for research\", \"we are studying data mining today\", \"data mining is a promising field\"]\n",
    "\n",
    "vectorizer1 = TfidfVectorizer()\n",
    "vectorizer1.fit(newcorpus)"
   ]
  },
  {
   "cell_type": "code",
   "execution_count": 9,
   "metadata": {},
   "outputs": [
    {
     "name": "stdout",
     "output_type": "stream",
     "text": [
      "{'data': 1, 'mining': 7, 'is': 6, 'good': 5, 'domain': 2, 'for': 4, 'research': 9, 'we': 12, 'are': 0, 'studying': 10, 'today': 11, 'promising': 8, 'field': 3}\n"
     ]
    }
   ],
   "source": [
    "print(vectorizer1.vocabulary_)"
   ]
  },
  {
   "cell_type": "code",
   "execution_count": 10,
   "metadata": {},
   "outputs": [
    {
     "name": "stdout",
     "output_type": "stream",
     "text": [
      "[1.69314718 1.         1.69314718 1.69314718 1.69314718 1.69314718\n",
      " 1.28768207 1.         1.69314718 1.69314718 1.69314718 1.69314718\n",
      " 1.69314718]\n"
     ]
    }
   ],
   "source": [
    "print(vectorizer1.idf_)"
   ]
  },
  {
   "cell_type": "code",
   "execution_count": 11,
   "metadata": {},
   "outputs": [],
   "source": [
    "newvector1 = vectorizer1.transform([newcorpus[2]])"
   ]
  },
  {
   "cell_type": "code",
   "execution_count": 12,
   "metadata": {},
   "outputs": [
    {
     "name": "stdout",
     "output_type": "stream",
     "text": [
      "  (0, 8)\t0.5524900470844099\n",
      "  (0, 7)\t0.32630952195289625\n",
      "  (0, 6)\t0.4201829214890553\n",
      "  (0, 3)\t0.5524900470844099\n",
      "  (0, 1)\t0.32630952195289625\n"
     ]
    }
   ],
   "source": [
    "print(newvector1)"
   ]
  },
  {
   "cell_type": "code",
   "execution_count": null,
   "metadata": {},
   "outputs": [],
   "source": []
  }
 ],
 "metadata": {
  "kernelspec": {
   "display_name": "Python 3",
   "language": "python",
   "name": "python3"
  },
  "language_info": {
   "codemirror_mode": {
    "name": "ipython",
    "version": 3
   },
   "file_extension": ".py",
   "mimetype": "text/x-python",
   "name": "python",
   "nbconvert_exporter": "python",
   "pygments_lexer": "ipython3",
   "version": "3.8.4"
  }
 },
 "nbformat": 4,
 "nbformat_minor": 4
}
