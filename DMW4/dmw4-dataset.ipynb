{
 "cells": [
  {
   "cell_type": "code",
   "execution_count": 1,
   "metadata": {},
   "outputs": [],
   "source": [
    "import nltk\n",
    "import ssl"
   ]
  },
  {
   "cell_type": "code",
   "execution_count": 2,
   "metadata": {},
   "outputs": [
    {
     "name": "stdout",
     "output_type": "stream",
     "text": [
      "showing info https://raw.githubusercontent.com/nltk/nltk_data/gh-pages/index.xml\n"
     ]
    },
    {
     "data": {
      "text/plain": [
       "True"
      ]
     },
     "execution_count": 2,
     "metadata": {},
     "output_type": "execute_result"
    }
   ],
   "source": [
    "try:\n",
    "    _create_unverified_https_context = ssl._create_unverified_context\n",
    "except AttributeError:\n",
    "    pass\n",
    "else:\n",
    "    ssl._create_default_https_context = _create_unverified_https_context\n",
    "\n",
    "nltk.download()"
   ]
  },
  {
   "cell_type": "code",
   "execution_count": 2,
   "metadata": {},
   "outputs": [],
   "source": [
    "from nltk.corpus import stopwords\n",
    "from nltk.tokenize import word_tokenize\n",
    "from nltk.stem import PorterStemmer"
   ]
  },
  {
   "cell_type": "code",
   "execution_count": 3,
   "metadata": {},
   "outputs": [],
   "source": [
    "from sklearn.feature_extraction.text import CountVectorizer"
   ]
  },
  {
   "cell_type": "code",
   "execution_count": 4,
   "metadata": {},
   "outputs": [],
   "source": [
    "from pathlib import Path\n",
    "import pandas as pd\n",
    "import numpy as np"
   ]
  },
  {
   "cell_type": "code",
   "execution_count": 17,
   "metadata": {},
   "outputs": [
    {
     "name": "stdout",
     "output_type": "stream",
     "text": [
      "['Expenses as material breeding insisted building to in. Continual so distrusts pronounce by unwilling listening. Thing do taste on we manor. Him had wound use found hoped. Of distrusts immediate enjoyment curiosity do. Marianne numerous saw thoughts the humoured. \\n\\nCertainly elsewhere my do allowance at. The address farther six hearted hundred towards husband. Are securing off occasion remember daughter replying. Held that feel his see own yet. Strangers ye to he sometimes propriety in. She right plate seven has. Bed who perceive judgment did marianne. \\n\\nConcerns greatest margaret him absolute entrance nay. Door neat week do find past he. Be no surprise he honoured indulged. Unpacked endeavor six steepest had husbands her. Painted no or affixed it so civilly. Exposed neither pressed so cottage as proceed at offices. Nay they gone sir game four. Favourable pianoforte oh motionless excellence of astonished we principles. Warrant present garrets limited cordial in inquiry to. Supported me sweetness behaviour shameless excellent so arranging. \\n\\nYet bed any for travelling assistance indulgence unpleasing. Not thoughts all exercise blessing. Indulgence way everything joy alteration boisterous the attachment. Party we years to order allow asked of. We so opinion friends me message as delight. Whole front do of plate heard oh ought. His defective nor convinced residence own. Connection has put impossible own apartments boisterous. At jointure ladyship an insisted so humanity he. Friendly bachelor entrance to on by. \\n\\nCottage out enabled was entered greatly prevent message. No procured unlocked an likewise. Dear but what she been over gay felt body. Six principles advantages and use entreaties decisively. Eat met has dwelling unpacked see whatever followed. Court in of leave again as am. Greater sixteen to forming colonel no on be. So an advice hardly barton. He be turned sudden engage manner spirit. \\n\\nEffects present letters inquiry no an removed or friends. Desire behind latter me though in. Supposing shameless am he engrossed up additions. My possible peculiar together to. Desire so better am cannot he up before points. Remember mistaken opinions it pleasure of debating. Court front maids forty if aware their at. Chicken use are pressed removed. \\n\\nBarton waited twenty always repair in within we do. An delighted offending curiosity my is dashwoods at. Boy prosperous increasing surrounded companions her nor advantages sufficient put. John on time down give meet help as of. Him waiting and correct believe now cottage she another. Vexed six shy yet along learn maids her tiled. Through studied shyness evening bed him winding present. Become excuse hardly on my thirty it wanted. \\n\\nArrived compass prepare an on as. Reasonable particular on my it in sympathize. Size now easy eat hand how. Unwilling he departure elsewhere dejection at. Heart large seems may purse means few blind. Exquisite newspaper attending on certainty oh suspicion of. He less do quit evil is. Add matter family active mutual put wishes happen. \\n\\nWoody equal ask saw sir weeks aware decay. Entrance prospect removing we packages strictly is no smallest he. For hopes may chief get hours day rooms. Oh no turned behind polite piqued enough at. Forbade few through inquiry blushes you. Cousin no itself eldest it in dinner latter missed no. Boisterous estimating interested collecting get conviction friendship say boy. Him mrs shy article smiling respect opinion excited. Welcomed humoured rejoiced peculiar to in an. \\n\\nSeen you eyes son show. Far two unaffected one alteration apartments celebrated but middletons interested. Described deficient applauded consisted my me do. Passed edward two talent effect seemed engage six. On ye great do child sorry lived. Proceed cottage far letters ashamed get clothes day. Stairs regret at if matter to. On as needed almost at basket remain. By improved sensible servants children striking in surprise. \\n\\n']\n",
      "['Expenses as material breeding insisted building to in. Continual so distrusts pronounce by unwilling listening. Thing do taste on we manor. Him had wound use found hoped. Of distrusts immediate enjoyment curiosity do. Marianne numerous saw thoughts the humoured. \\n\\nCertainly elsewhere my do allowance at. The address farther six hearted hundred towards husband. Are securing off occasion remember daughter replying. Held that feel his see own yet. Strangers ye to he sometimes propriety in. She right plate seven has. Bed who perceive judgment did marianne. \\n\\nConcerns greatest margaret him absolute entrance nay. Door neat week do find past he. Be no surprise he honoured indulged. Unpacked endeavor six steepest had husbands her. Painted no or affixed it so civilly. Exposed neither pressed so cottage as proceed at offices. Nay they gone sir game four. Favourable pianoforte oh motionless excellence of astonished we principles. Warrant present garrets limited cordial in inquiry to. Supported me sweetness behaviour shameless excellent so arranging. \\n\\nYet bed any for travelling assistance indulgence unpleasing. Not thoughts all exercise blessing. Indulgence way everything joy alteration boisterous the attachment. Party we years to order allow asked of. We so opinion friends me message as delight. Whole front do of plate heard oh ought. His defective nor convinced residence own. Connection has put impossible own apartments boisterous. At jointure ladyship an insisted so humanity he. Friendly bachelor entrance to on by. \\n\\nCottage out enabled was entered greatly prevent message. No procured unlocked an likewise. Dear but what she been over gay felt body. Six principles advantages and use entreaties decisively. Eat met has dwelling unpacked see whatever followed. Court in of leave again as am. Greater sixteen to forming colonel no on be. So an advice hardly barton. He be turned sudden engage manner spirit. \\n\\nEffects present letters inquiry no an removed or friends. Desire behind latter me though in. Supposing shameless am he engrossed up additions. My possible peculiar together to. Desire so better am cannot he up before points. Remember mistaken opinions it pleasure of debating. Court front maids forty if aware their at. Chicken use are pressed removed. \\n\\nBarton waited twenty always repair in within we do. An delighted offending curiosity my is dashwoods at. Boy prosperous increasing surrounded companions her nor advantages sufficient put. John on time down give meet help as of. Him waiting and correct believe now cottage she another. Vexed six shy yet along learn maids her tiled. Through studied shyness evening bed him winding present. Become excuse hardly on my thirty it wanted. \\n\\nArrived compass prepare an on as. Reasonable particular on my it in sympathize. Size now easy eat hand how. Unwilling he departure elsewhere dejection at. Heart large seems may purse means few blind. Exquisite newspaper attending on certainty oh suspicion of. He less do quit evil is. Add matter family active mutual put wishes happen. \\n\\nWoody equal ask saw sir weeks aware decay. Entrance prospect removing we packages strictly is no smallest he. For hopes may chief get hours day rooms. Oh no turned behind polite piqued enough at. Forbade few through inquiry blushes you. Cousin no itself eldest it in dinner latter missed no. Boisterous estimating interested collecting get conviction friendship say boy. Him mrs shy article smiling respect opinion excited. Welcomed humoured rejoiced peculiar to in an. \\n\\nSeen you eyes son show. Far two unaffected one alteration apartments celebrated but middletons interested. Described deficient applauded consisted my me do. Passed edward two talent effect seemed engage six. On ye great do child sorry lived. Proceed cottage far letters ashamed get clothes day. Stairs regret at if matter to. On as needed almost at basket remain. By improved sensible servants children striking in surprise. \\n\\n', 'Chapter too parties its letters nor. Cheerful but whatever ladyship disposed yet judgment. Lasted answer oppose to ye months no esteem. Branched is on an ecstatic directly it. Put off continue you denoting returned juvenile. Looked person sister result mr to. Replied demands charmed do viewing ye colonel to so. Decisively inquietude he advantages insensible at oh continuing unaffected of. \\n\\nImprove him believe opinion offered met and end cheered forbade. Friendly as stronger speedily by recurred. Son interest wandered sir addition end say. Manners beloved affixed picture men ask. Explain few led parties attacks picture company. On sure fine kept walk am in it. Resolved to in believed desirous unpacked weddings together. Nor off for enjoyed cousins herself. Little our played lively she adieus far sussex. Do theirs others merely at temper it nearer. \\n\\nWhole every miles as tiled at seven or. Wished he entire esteem mr oh by. Possible bed you pleasure civility boy elegance ham. He prevent request by if in pleased. Picture too and concern has was comfort. Ten difficult resembled eagerness nor. Same park bore on be. Warmth his law design say are person. Pronounce suspected in belonging conveying ye repulsive. \\n\\nRank tall boy man them over post now. Off into she bed long fat room. Recommend existence curiosity perfectly favourite get eat she why daughters. Not may too nay busy last song must sell. An newspaper assurance discourse ye certainly. Soon gone game and why many calm have. \\n\\nBarton did feebly change man she afford square add. Want eyes by neat so just must. Past draw tall up face show rent oh mr. Required is debating extended wondered as do. New get described applauded incommode shameless out extremity but. Resembled at perpetual no believing is otherwise sportsman. Is do he dispatched cultivated travelling astonished. Melancholy am considered possession on collecting everything. \\n\\nAt as in understood an remarkably solicitude. Mean them very seen she she. Use totally written the observe pressed justice. Instantly cordially far intention recommend estimable yet her his. Ladies stairs enough esteem add fat all enable. Needed its design number winter see. Oh be me sure wise sons no. Piqued ye of am spirit regret. Stimulated discretion impossible admiration in particular conviction up. \\n\\nUnpacked reserved sir offering bed judgment may and quitting speaking. Is do be improved raptures offering required in replying raillery. Stairs ladies friend by in mutual an no. Mr hence chief he cause. Whole no doors on hoped. Mile tell if help they ye full name. \\n\\nIn on announcing if of comparison pianoforte projection. Maids hoped gay yet bed asked blind dried point. On abroad danger likely regret twenty edward do. Too horrible consider followed may differed age. An rest if more five mr of. Age just her rank met down way. Attended required so in cheerful an. Domestic replying she resolved him for did. Rather in lasted no within no. \\n\\nOn it differed repeated wandered required in. Then girl neat why yet knew rose spot. Moreover property we he kindness greatest be oh striking laughter. In me he at collecting affronting principles apartments. Has visitor law attacks pretend you calling own excited painted. Contented attending smallness it oh ye unwilling. Turned favour man two but lovers. Suffer should if waited common person little oh. Improved civility graceful sex few smallest screened settling. Likely active her warmly has. \\n\\nFar quitting dwelling graceful the likewise received building. An fact so to that show am shed sold cold. Unaffected remarkably get yet introduced excellence terminated led. Result either design saw she esteem and. On ashamed no inhabit ferrars it ye besides resolve. Own judgment directly few trifling. Elderly as pursuit at regular do parlors. Rank what has into fond she. \\n\\n']\n",
      "['Expenses as material breeding insisted building to in. Continual so distrusts pronounce by unwilling listening. Thing do taste on we manor. Him had wound use found hoped. Of distrusts immediate enjoyment curiosity do. Marianne numerous saw thoughts the humoured. \\n\\nCertainly elsewhere my do allowance at. The address farther six hearted hundred towards husband. Are securing off occasion remember daughter replying. Held that feel his see own yet. Strangers ye to he sometimes propriety in. She right plate seven has. Bed who perceive judgment did marianne. \\n\\nConcerns greatest margaret him absolute entrance nay. Door neat week do find past he. Be no surprise he honoured indulged. Unpacked endeavor six steepest had husbands her. Painted no or affixed it so civilly. Exposed neither pressed so cottage as proceed at offices. Nay they gone sir game four. Favourable pianoforte oh motionless excellence of astonished we principles. Warrant present garrets limited cordial in inquiry to. Supported me sweetness behaviour shameless excellent so arranging. \\n\\nYet bed any for travelling assistance indulgence unpleasing. Not thoughts all exercise blessing. Indulgence way everything joy alteration boisterous the attachment. Party we years to order allow asked of. We so opinion friends me message as delight. Whole front do of plate heard oh ought. His defective nor convinced residence own. Connection has put impossible own apartments boisterous. At jointure ladyship an insisted so humanity he. Friendly bachelor entrance to on by. \\n\\nCottage out enabled was entered greatly prevent message. No procured unlocked an likewise. Dear but what she been over gay felt body. Six principles advantages and use entreaties decisively. Eat met has dwelling unpacked see whatever followed. Court in of leave again as am. Greater sixteen to forming colonel no on be. So an advice hardly barton. He be turned sudden engage manner spirit. \\n\\nEffects present letters inquiry no an removed or friends. Desire behind latter me though in. Supposing shameless am he engrossed up additions. My possible peculiar together to. Desire so better am cannot he up before points. Remember mistaken opinions it pleasure of debating. Court front maids forty if aware their at. Chicken use are pressed removed. \\n\\nBarton waited twenty always repair in within we do. An delighted offending curiosity my is dashwoods at. Boy prosperous increasing surrounded companions her nor advantages sufficient put. John on time down give meet help as of. Him waiting and correct believe now cottage she another. Vexed six shy yet along learn maids her tiled. Through studied shyness evening bed him winding present. Become excuse hardly on my thirty it wanted. \\n\\nArrived compass prepare an on as. Reasonable particular on my it in sympathize. Size now easy eat hand how. Unwilling he departure elsewhere dejection at. Heart large seems may purse means few blind. Exquisite newspaper attending on certainty oh suspicion of. He less do quit evil is. Add matter family active mutual put wishes happen. \\n\\nWoody equal ask saw sir weeks aware decay. Entrance prospect removing we packages strictly is no smallest he. For hopes may chief get hours day rooms. Oh no turned behind polite piqued enough at. Forbade few through inquiry blushes you. Cousin no itself eldest it in dinner latter missed no. Boisterous estimating interested collecting get conviction friendship say boy. Him mrs shy article smiling respect opinion excited. Welcomed humoured rejoiced peculiar to in an. \\n\\nSeen you eyes son show. Far two unaffected one alteration apartments celebrated but middletons interested. Described deficient applauded consisted my me do. Passed edward two talent effect seemed engage six. On ye great do child sorry lived. Proceed cottage far letters ashamed get clothes day. Stairs regret at if matter to. On as needed almost at basket remain. By improved sensible servants children striking in surprise. \\n\\n', 'Chapter too parties its letters nor. Cheerful but whatever ladyship disposed yet judgment. Lasted answer oppose to ye months no esteem. Branched is on an ecstatic directly it. Put off continue you denoting returned juvenile. Looked person sister result mr to. Replied demands charmed do viewing ye colonel to so. Decisively inquietude he advantages insensible at oh continuing unaffected of. \\n\\nImprove him believe opinion offered met and end cheered forbade. Friendly as stronger speedily by recurred. Son interest wandered sir addition end say. Manners beloved affixed picture men ask. Explain few led parties attacks picture company. On sure fine kept walk am in it. Resolved to in believed desirous unpacked weddings together. Nor off for enjoyed cousins herself. Little our played lively she adieus far sussex. Do theirs others merely at temper it nearer. \\n\\nWhole every miles as tiled at seven or. Wished he entire esteem mr oh by. Possible bed you pleasure civility boy elegance ham. He prevent request by if in pleased. Picture too and concern has was comfort. Ten difficult resembled eagerness nor. Same park bore on be. Warmth his law design say are person. Pronounce suspected in belonging conveying ye repulsive. \\n\\nRank tall boy man them over post now. Off into she bed long fat room. Recommend existence curiosity perfectly favourite get eat she why daughters. Not may too nay busy last song must sell. An newspaper assurance discourse ye certainly. Soon gone game and why many calm have. \\n\\nBarton did feebly change man she afford square add. Want eyes by neat so just must. Past draw tall up face show rent oh mr. Required is debating extended wondered as do. New get described applauded incommode shameless out extremity but. Resembled at perpetual no believing is otherwise sportsman. Is do he dispatched cultivated travelling astonished. Melancholy am considered possession on collecting everything. \\n\\nAt as in understood an remarkably solicitude. Mean them very seen she she. Use totally written the observe pressed justice. Instantly cordially far intention recommend estimable yet her his. Ladies stairs enough esteem add fat all enable. Needed its design number winter see. Oh be me sure wise sons no. Piqued ye of am spirit regret. Stimulated discretion impossible admiration in particular conviction up. \\n\\nUnpacked reserved sir offering bed judgment may and quitting speaking. Is do be improved raptures offering required in replying raillery. Stairs ladies friend by in mutual an no. Mr hence chief he cause. Whole no doors on hoped. Mile tell if help they ye full name. \\n\\nIn on announcing if of comparison pianoforte projection. Maids hoped gay yet bed asked blind dried point. On abroad danger likely regret twenty edward do. Too horrible consider followed may differed age. An rest if more five mr of. Age just her rank met down way. Attended required so in cheerful an. Domestic replying she resolved him for did. Rather in lasted no within no. \\n\\nOn it differed repeated wandered required in. Then girl neat why yet knew rose spot. Moreover property we he kindness greatest be oh striking laughter. In me he at collecting affronting principles apartments. Has visitor law attacks pretend you calling own excited painted. Contented attending smallness it oh ye unwilling. Turned favour man two but lovers. Suffer should if waited common person little oh. Improved civility graceful sex few smallest screened settling. Likely active her warmly has. \\n\\nFar quitting dwelling graceful the likewise received building. An fact so to that show am shed sold cold. Unaffected remarkably get yet introduced excellence terminated led. Result either design saw she esteem and. On ashamed no inhabit ferrars it ye besides resolve. Own judgment directly few trifling. Elderly as pursuit at regular do parlors. Rank what has into fond she. \\n\\n', 'Rank tall boy man them over post now. Off into she bed long fat room. Recommend existence curiosity perfectly favourite get eat she why daughters. Not may too nay busy last song must sell. An newspaper assurance discourse ye certainly. Soon gone game and why many calm have. \\n\\nIncreasing impression interested expression he my at. Respect invited request charmed me warrant to. Expect no pretty as do though so genius afraid cousin. Girl when of ye snug poor draw. Mistake totally of in chiefly. Justice visitor him entered for. Continue delicate as unlocked entirely mr relation diverted in. Known not end fully being style house. An whom down kept lain name so at easy. \\n\\nIn on announcing if of comparison pianoforte projection. Maids hoped gay yet bed asked blind dried point. On abroad danger likely regret twenty edward do. Too horrible consider followed may differed age. An rest if more five mr of. Age just her rank met down way. Attended required so in cheerful an. Domestic replying she resolved him for did. Rather in lasted no within no. \\n\\nWhole wound wrote at whose to style in. Figure ye innate former do so we. Shutters but sir yourself provided you required his. So neither related he am do believe. Nothing but you hundred had use regular. Fat sportsmen arranging preferred can. Busy paid like is oh. Dinner our ask talent her age hardly. Neglected collected an attention listening do abilities. \\n\\nNo comfort do written conduct at prevent manners on. Celebrated contrasted discretion him sympathize her collecting occasional. Do answered bachelor occasion in of offended no concerns. Supply worthy warmth branch of no ye. Voice tried known to as my to. Though wished merits or be. Alone visit use these smart rooms ham. No waiting in on enjoyed placing it inquiry. \\n\\nBoy desirous families prepared gay reserved add ecstatic say. Replied joy age visitor nothing cottage. Mrs door paid led loud sure easy read. Hastily at perhaps as neither or ye fertile tedious visitor. Use fine bed none call busy dull when. Quiet ought match my right by table means. Principles up do in me favourable affronting. Twenty mother denied effect we to do on. \\n\\nPleased him another was settled for. Moreover end horrible endeavor entrance any families. Income appear extent on of thrown in admire. Stanhill on we if vicinity material in. Saw him smallest you provided ecstatic supplied. Garret wanted expect remain as mr. Covered parlors concern we express in visited to do. Celebrated impossible my uncommonly particular by oh introduced inquietude do. \\n\\nYet remarkably appearance get him his projection. Diverted endeavor bed peculiar men the not desirous. Acuteness abilities ask can offending furnished fulfilled sex. Warrant fifteen exposed ye at mistake. Blush since so in noisy still built up an again. As young ye hopes no he place means. Partiality diminution gay yet entreaties admiration. In mr it he mention perhaps attempt pointed suppose. Unknown ye chamber of warrant of norland arrived. \\n\\nNew the her nor case that lady paid read. Invitation friendship travelling eat everything the out two. Shy you who scarcely expenses debating hastened resolved. Always polite moment on is warmth spirit it to hearts. Downs those still witty an balls so chief so. Moment an little remain no up lively no. Way brought may off our regular country towards adapted cheered. \\n\\nGave read use way make spot how nor. In daughter goodness an likewise oh consider at procured wandered. Songs words wrong by me hills heard timed. Happy eat may doors songs. Be ignorant so of suitable dissuade weddings together. Least whole timed we is. An smallness deficient discourse do newspaper be an eagerness continued. Mr my ready guest ye after short at. \\n\\n']\n"
     ]
    }
   ],
   "source": [
    "data = []\n",
    "for i in range(3):\n",
    "    try:\n",
    "        fname = \"file\" + str(i+1) + \".txt\"\n",
    "        fd = open(fname)\n",
    "        data.append(fd.read())\n",
    "    except:\n",
    "        fd.close()\n",
    "    else:\n",
    "        fd.close()"
   ]
  },
  {
   "cell_type": "code",
   "execution_count": 14,
   "metadata": {},
   "outputs": [],
   "source": [
    "stop_words = set(stopwords.words('english'))\n",
    "\n",
    "filtered_words = []\n",
    "stemmer = PorterStemmer()\n",
    "for i in range(3):\n",
    "    train_data = []\n",
    "    for word in data[i]:\n",
    "        if word not in stop_words:\n",
    "            train_data.append(stemmer.stem(word))\n",
    "    filtered_words.append(train_data)"
   ]
  },
  {
   "cell_type": "code",
   "execution_count": null,
   "metadata": {},
   "outputs": [],
   "source": []
  },
  {
   "cell_type": "code",
   "execution_count": 9,
   "metadata": {},
   "outputs": [
    {
     "data": {
      "text/plain": [
       "'Expenses as material breeding insisted building to in. Continual so distrusts pronounce by unwilling listening. Thing do taste on we manor. Him had wound use found hoped. Of distrusts immediate enjoyment curiosity do. Marianne numerous saw thoughts the humoured. Certainly elsewhere my do allowance at. The address farther six hearted hundred towards husband. Are securing off occasion remember daughter replying. Held that feel his see own yet. Strangers ye to he sometimes propriety in. She right plate seven has. Bed who perceive judgment did marianne. Concerns greatest margaret him absolute entrance nay. Door neat week do find past he. Be no surprise he honoured indulged. Unpacked endeavor six steepest had husbands her. Painted no or affixed it so civilly. Exposed neither pressed so cottage as proceed at offices. Nay they gone sir game four. Favourable pianoforte oh motionless excellence of astonished we principles. Warrant present garrets limited cordial in inquiry to. Supported me sweetness behaviour shameless excellent so arranging. Yet bed any for travelling assistance indulgence unpleasing. Not thoughts all exercise blessing. Indulgence way everything joy alteration boisterous the attachment. Party we years to order allow asked of. We so opinion friends me message as delight. Whole front do of plate heard oh ought. His defective nor convinced residence own. Connection has put impossible own apartments boisterous. At jointure ladyship an insisted so humanity he. Friendly bachelor entrance to on by. Cottage out enabled was entered greatly prevent message. No procured unlocked an likewise. Dear but what she been over gay felt body. Six principles advantages and use entreaties decisively. Eat met has dwelling unpacked see whatever followed. Court in of leave again as am. Greater sixteen to forming colonel no on be. So an advice hardly barton. He be turned sudden engage manner spirit. Effects present letters inquiry no an removed or friends. Desire behind latter me though in. Supposing shameless am he engrossed up additions. My possible peculiar together to. Desire so better am cannot he up before points. Remember mistaken opinions it pleasure of debating. Court front maids forty if aware their at. Chicken use are pressed removed. Barton waited twenty always repair in within we do. An delighted offending curiosity my is dashwoods at. Boy prosperous increasing surrounded companions her nor advantages sufficient put. John on time down give meet help as of. Him waiting and correct believe now cottage she another. Vexed six shy yet along learn maids her tiled. Through studied shyness evening bed him winding present. Become excuse hardly on my thirty it wanted. Arrived compass prepare an on as. Reasonable particular on my it in sympathize. Size now easy eat hand how. Unwilling he departure elsewhere dejection at. Heart large seems may purse means few blind. Exquisite newspaper attending on certainty oh suspicion of. He less do quit evil is. Add matter family active mutual put wishes happen. Woody equal ask saw sir weeks aware decay. Entrance prospect removing we packages strictly is no smallest he. For hopes may chief get hours day rooms. Oh no turned behind polite piqued enough at. Forbade few through inquiry blushes you. Cousin no itself eldest it in dinner latter missed no. Boisterous estimating interested collecting get conviction friendship say boy. Him mrs shy article smiling respect opinion excited. Welcomed humoured rejoiced peculiar to in an. Seen you eyes son show. Far two unaffected one alteration apartments celebrated but middletons interested. Described deficient applauded consisted my me do. Passed edward two talent effect seemed engage six. On ye great do child sorry lived. Proceed cottage far letters ashamed get clothes day. Stairs regret at if matter to. On as needed almost at basket remain. By improved sensible servants children striking in surprise. '"
      ]
     },
     "execution_count": 9,
     "metadata": {},
     "output_type": "execute_result"
    }
   ],
   "source": [
    "train_data_prelim[0]"
   ]
  },
  {
   "cell_type": "code",
   "execution_count": 40,
   "metadata": {},
   "outputs": [
    {
     "data": {
      "text/plain": [
       "TfidfVectorizer()"
      ]
     },
     "execution_count": 40,
     "metadata": {},
     "output_type": "execute_result"
    }
   ],
   "source": [
    "from sklearn.feature_extraction.text import TfidfVectorizer\n",
    "\n",
    "vectorizer1 = TfidfVectorizer()\n",
    "vectorizer1.fit(train_data)"
   ]
  },
  {
   "cell_type": "code",
   "execution_count": 41,
   "metadata": {},
   "outputs": [
    {
     "name": "stdout",
     "output_type": "stream",
     "text": [
      "{'expenses': 277, 'as': 53, 'material': 485, 'breeding': 101, 'insisted': 417, 'building': 103, 'to': 816, 'in': 403, 'continual': 154, 'so': 734, 'distrusts': 219, 'pronounce': 625, 'by': 107, 'unwilling': 839, 'listening': 466, 'thing': 806, 'do': 221, 'taste': 789, 'on': 555, 'we': 863, 'manor': 480, 'him': 378, 'had': 353, 'wound': 896, 'use': 841, 'found': 322, 'hoped': 382, 'of': 546, 'immediate': 397, 'enjoyment': 252, 'curiosity': 174, 'marianne': 483, 'numerous': 541, 'saw': 689, 'thoughts': 810, 'the': 797, 'humoured': 391, 'certainly': 116, 'elsewhere': 244, 'my': 519, 'allowance': 27, 'at': 60, 'address': 11, 'farther': 293, 'six': 726, 'hearted': 369, 'hundred': 392, 'towards': 821, 'husband': 393, 'are': 48, 'securing': 694, 'off': 547, 'occasion': 544, 'remember': 662, 'daughter': 177, 'replying': 669, 'held': 371, 'that': 796, 'feel': 299, 'his': 379, 'see': 695, 'own': 569, 'yet': 902, 'strangers': 761, 'ye': 900, 'he': 366, 'sometimes': 738, 'propriety': 628, 'she': 710, 'right': 683, 'plate': 594, 'seven': 707, 'has': 362, 'bed': 75, 'who': 873, 'perceive': 583, 'judgment': 433, 'did': 201, 'concerns': 146, 'greatest': 350, 'margaret': 482, 'absolute': 3, 'entrance': 258, 'nay': 522, 'door': 224, 'neat': 525, 'week': 865, 'find': 308, 'past': 581, 'be': 72, 'no': 532, 'surprise': 779, 'honoured': 380, 'indulged': 408, 'unpacked': 835, 'endeavor': 248, 'steepest': 757, 'husbands': 394, 'her': 374, 'painted': 573, 'or': 561, 'affixed': 18, 'it': 427, 'civilly': 130, 'exposed': 280, 'neither': 529, 'pressed': 614, 'cottage': 165, 'proceed': 620, 'offices': 552, 'they': 805, 'gone': 344, 'sir': 724, 'game': 333, 'four': 323, 'favourable': 296, 'pianoforte': 589, 'oh': 553, 'motionless': 514, 'excellence': 269, 'astonished': 59, 'principles': 619, 'warrant': 860, 'present': 612, 'garrets': 335, 'limited': 465, 'cordial': 162, 'inquiry': 414, 'supported': 775, 'me': 488, 'sweetness': 784, 'behaviour': 79, 'shameless': 709, 'excellent': 270, 'arranging': 50, 'any': 43, 'for': 315, 'travelling': 822, 'assistance': 57, 'indulgence': 409, 'unpleasing': 837, 'not': 537, 'all': 25, 'exercise': 273, 'blessing': 90, 'way': 862, 'everything': 266, 'joy': 432, 'alteration': 31, 'boisterous': 95, 'attachment': 61, 'party': 579, 'years': 901, 'order': 562, 'allow': 26, 'asked': 56, 'opinion': 558, 'friends': 326, 'message': 497, 'delight': 188, 'whole': 874, 'front': 328, 'heard': 367, 'ought': 565, 'defective': 184, 'nor': 535, 'convinced': 161, 'residence': 675, 'connection': 148, 'put': 636, 'impossible': 398, 'apartments': 44, 'jointure': 431, 'ladyship': 444, 'an': 36, 'humanity': 390, 'friendly': 325, 'bachelor': 68, 'out': 567, 'enabled': 246, 'was': 861, 'entered': 255, 'greatly': 351, 'prevent': 618, 'procured': 621, 'unlocked': 834, 'likewise': 464, 'dear': 180, 'but': 106, 'what': 870, 'been': 76, 'over': 568, 'gay': 337, 'felt': 302, 'body': 94, 'advantages': 16, 'and': 37, 'entreaties': 259, 'decisively': 183, 'eat': 235, 'met': 498, 'dwelling': 232, 'whatever': 871, 'followed': 312, 'court': 169, 'leave': 456, 'again': 23, 'am': 34, 'greater': 349, 'sixteen': 727, 'forming': 320, 'colonel': 135, 'advice': 17, 'hardly': 361, 'barton': 70, 'turned': 826, 'sudden': 769, 'engage': 249, 'manner': 478, 'spirit': 747, 'effects': 239, 'letters': 461, 'removed': 663, 'desire': 199, 'behind': 80, 'latter': 450, 'though': 809, 'supposing': 777, 'engrossed': 250, 'up': 840, 'additions': 10, 'possible': 606, 'peculiar': 582, 'together': 817, 'better': 88, 'cannot': 112, 'before': 77, 'points': 601, 'mistaken': 506, 'opinions': 559, 'pleasure': 597, 'debating': 181, 'maids': 475, 'forty': 321, 'if': 395, 'aware': 67, 'their': 798, 'chicken': 124, 'waited': 852, 'twenty': 827, 'always': 33, 'repair': 666, 'within': 886, 'delighted': 189, 'offending': 549, 'is': 426, 'dashwoods': 176, 'boy': 97, 'prosperous': 630, 'increasing': 406, 'surrounded': 780, 'companions': 141, 'sufficient': 771, 'john': 430, 'time': 814, 'down': 227, 'give': 342, 'meet': 491, 'help': 372, 'waiting': 853, 'correct': 164, 'believe': 82, 'now': 539, 'another': 39, 'vexed': 844, 'shy': 716, 'along': 30, 'learn': 453, 'tiled': 813, 'through': 811, 'studied': 766, 'shyness': 717, 'evening': 264, 'winding': 879, 'become': 74, 'excuse': 272, 'thirty': 807, 'wanted': 857, 'arrived': 51, 'compass': 144, 'prepare': 610, 'reasonable': 648, 'particular': 577, 'sympathize': 785, 'size': 728, 'easy': 234, 'hand': 356, 'how': 388, 'departure': 195, 'dejection': 186, 'heart': 368, 'large': 446, 'seems': 697, 'may': 487, 'purse': 634, 'means': 490, 'few': 305, 'blind': 91, 'exquisite': 283, 'newspaper': 531, 'attending': 65, 'certainty': 117, 'suspicion': 782, 'less': 459, 'quit': 639, 'evil': 268, 'add': 8, 'matter': 486, 'family': 291, 'active': 5, 'mutual': 518, 'wishes': 884, 'happen': 358, 'woody': 892, 'equal': 260, 'ask': 55, 'weeks': 866, 'decay': 182, 'prospect': 629, 'removing': 664, 'packages': 570, 'strictly': 762, 'smallest': 729, 'hopes': 383, 'chief': 125, 'get': 340, 'hours': 385, 'day': 179, 'rooms': 686, 'polite': 602, 'piqued': 591, 'enough': 253, 'forbade': 316, 'blushes': 93, 'you': 903, 'cousin': 170, 'itself': 429, 'eldest': 242, 'dinner': 206, 'missed': 504, 'estimating': 263, 'interested': 421, 'collecting': 134, 'conviction': 160, 'friendship': 327, 'say': 690, 'mrs': 516, 'article': 52, 'smiling': 732, 'respect': 679, 'excited': 271, 'welcomed': 867, 'rejoiced': 655, 'seen': 698, 'eyes': 287, 'son': 739, 'show': 714, 'far': 292, 'two': 828, 'unaffected': 829, 'one': 556, 'celebrated': 115, 'middletons': 499, 'described': 197, 'deficient': 185, 'applauded': 47, 'consisted': 151, 'passed': 580, 'edward': 237, 'talent': 787, 'effect': 238, 'seemed': 696, 'great': 348, 'child': 127, 'sorry': 744, 'lived': 468, 'ashamed': 54, 'clothes': 131, 'stairs': 754, 'regret': 653, 'needed': 527, 'almost': 28, 'basket': 71, 'remain': 658, 'improved': 401, 'sensible': 700, 'servants': 703, 'children': 128, 'striking': 763, 'chapter': 120, 'too': 819, 'parties': 578, 'its': 428, 'cheerful': 123, 'disposed': 214, 'lasted': 448, 'answer': 40, 'oppose': 560, 'months': 509, 'esteem': 261, 'branched': 99, 'ecstatic': 236, 'directly': 209, 'continue': 155, 'denoting': 194, 'returned': 682, 'juvenile': 436, 'looked': 472, 'person': 588, 'sister': 725, 'result': 681, 'mr': 515, 'replied': 668, 'demands': 192, 'charmed': 121, 'viewing': 846, 'inquietude': 413, 'insensible': 415, 'continuing': 157, 'improve': 400, 'offered': 550, 'end': 247, 'cheered': 122, 'stronger': 764, 'speedily': 746, 'recurred': 652, 'interest': 420, 'wandered': 855, 'addition': 9, 'manners': 479, 'beloved': 86, 'picture': 590, 'men': 493, 'explain': 278, 'led': 457, 'attacks': 62, 'company': 142, 'sure': 778, 'fine': 309, 'kept': 437, 'walk': 854, 'resolved': 678, 'believed': 83, 'desirous': 200, 'weddings': 864, 'enjoyed': 251, 'cousins': 171, 'herself': 375, 'little': 467, 'our': 566, 'played': 595, 'lively': 469, 'adieus': 12, 'sussex': 783, 'theirs': 799, 'others': 563, 'merely': 495, 'temper': 792, 'nearer': 524, 'every': 265, 'miles': 501, 'wished': 883, 'entire': 256, 'civility': 129, 'elegance': 243, 'ham': 355, 'request': 671, 'pleased': 596, 'concern': 145, 'comfort': 137, 'ten': 793, 'difficult': 203, 'resembled': 673, 'eagerness': 233, 'same': 688, 'park': 574, 'bore': 96, 'warmth': 859, 'law': 452, 'design': 198, 'suspected': 781, 'belonging': 85, 'conveying': 159, 'repulsive': 670, 'rank': 642, 'tall': 788, 'man': 477, 'them': 800, 'post': 607, 'into': 422, 'long': 470, 'fat': 294, 'room': 685, 'recommend': 651, 'existence': 275, 'perfectly': 585, 'favourite': 297, 'why': 877, 'daughters': 178, 'busy': 105, 'last': 447, 'song': 740, 'must': 517, 'sell': 699, 'assurance': 58, 'discourse': 210, 'soon': 743, 'many': 481, 'calm': 110, 'have': 365, 'feebly': 298, 'change': 119, 'afford': 19, 'square': 753, 'want': 856, 'just': 434, 'draw': 229, 'face': 288, 'rent': 665, 'required': 672, 'extended': 284, 'wondered': 890, 'new': 530, 'incommode': 405, 'extremity': 286, 'perpetual': 587, 'believing': 84, 'otherwise': 564, 'sportsman': 750, 'dispatched': 213, 'cultivated': 173, 'melancholy': 492, 'considered': 150, 'possession': 605, 'understood': 831, 'remarkably': 661, 'solicitude': 736, 'mean': 489, 'very': 843, 'totally': 820, 'written': 897, 'observe': 543, 'justice': 435, 'instantly': 418, 'cordially': 163, 'intention': 419, 'estimable': 262, 'ladies': 442, 'enable': 245, 'number': 540, 'winter': 880, 'wise': 881, 'sons': 742, 'stimulated': 759, 'discretion': 212, 'admiration': 13, 'reserved': 674, 'offering': 551, 'quitting': 640, 'speaking': 745, 'raptures': 644, 'raillery': 641, 'friend': 324, 'hence': 373, 'cause': 114, 'doors': 225, 'mile': 500, 'tell': 791, 'full': 330, 'name': 521, 'announcing': 38, 'comparison': 143, 'projection': 623, 'dried': 230, 'point': 599, 'abroad': 2, 'danger': 175, 'likely': 463, 'horrible': 384, 'consider': 149, 'differed': 202, 'age': 24, 'rest': 680, 'more': 510, 'five': 311, 'attended': 64, 'domestic': 223, 'rather': 645, 'repeated': 667, 'then': 802, 'girl': 341, 'knew': 439, 'rose': 687, 'spot': 752, 'moreover': 511, 'property': 627, 'kindness': 438, 'laughter': 451, 'affronting': 20, 'visitor': 850, 'pretend': 615, 'calling': 109, 'contented': 153, 'smallness': 730, 'favour': 295, 'lovers': 474, 'suffer': 770, 'should': 713, 'common': 139, 'graceful': 347, 'sex': 708, 'screened': 693, 'settling': 706, 'warmly': 858, 'received': 650, 'fact': 289, 'shed': 711, 'sold': 735, 'cold': 132, 'introduced': 423, 'terminated': 794, 'either': 240, 'inhabit': 410, 'ferrars': 303, 'besides': 87, 'resolve': 677, 'trifling': 824, 'elderly': 241, 'pursuit': 635, 'regular': 654, 'parlors': 575, 'fond': 314, 'impression': 399, 'expression': 282, 'invited': 425, 'expect': 276, 'pretty': 616, 'genius': 338, 'afraid': 21, 'when': 872, 'snug': 733, 'poor': 603, 'mistake': 505, 'chiefly': 126, 'delicate': 187, 'entirely': 257, 'relation': 657, 'diverted': 220, 'known': 441, 'fully': 331, 'being': 81, 'style': 767, 'house': 386, 'whom': 875, 'lain': 445, 'wrote': 899, 'whose': 876, 'figure': 307, 'innate': 412, 'former': 318, 'shutters': 715, 'yourself': 905, 'provided': 631, 'related': 656, 'nothing': 538, 'sportsmen': 751, 'preferred': 609, 'can': 111, 'paid': 571, 'like': 462, 'neglected': 528, 'collected': 133, 'attention': 66, 'abilities': 0, 'conduct': 147, 'contrasted': 158, 'occasional': 545, 'answered': 41, 'offended': 548, 'supply': 774, 'worthy': 895, 'branch': 98, 'voice': 851, 'tried': 823, 'merits': 496, 'alone': 29, 'visit': 848, 'these': 804, 'smart': 731, 'placing': 593, 'families': 290, 'prepared': 611, 'loud': 473, 'read': 646, 'hastily': 364, 'perhaps': 586, 'fertile': 304, 'tedious': 790, 'none': 534, 'call': 108, 'dull': 231, 'quiet': 638, 'match': 484, 'table': 786, 'mother': 513, 'denied': 193, 'settled': 705, 'income': 404, 'appear': 45, 'extent': 285, 'thrown': 812, 'admire': 14, 'stanhill': 755, 'vicinity': 845, 'supplied': 773, 'garret': 334, 'covered': 172, 'express': 281, 'visited': 849, 'uncommonly': 830, 'appearance': 46, 'acuteness': 6, 'furnished': 332, 'fulfilled': 329, 'fifteen': 306, 'blush': 92, 'since': 721, 'noisy': 533, 'still': 758, 'built': 104, 'young': 904, 'place': 592, 'partiality': 576, 'diminution': 204, 'mention': 494, 'attempt': 63, 'pointed': 600, 'suppose': 776, 'unknown': 833, 'chamber': 118, 'norland': 536, 'case': 113, 'lady': 443, 'invitation': 424, 'scarcely': 692, 'hastened': 363, 'moment': 508, 'hearts': 370, 'downs': 228, 'those': 808, 'witty': 888, 'balls': 69, 'brought': 102, 'country': 167, 'adapted': 7, 'gave': 336, 'make': 476, 'goodness': 346, 'songs': 741, 'words': 893, 'wrong': 898, 'hills': 377, 'timed': 815, 'happy': 359, 'ignorant': 396, 'suitable': 772, 'dissuade': 217, 'least': 455, 'continued': 156, 'ready': 647, 'guest': 352, 'after': 22, 'short': 712, 'dependent': 196, 'discovery': 211, 'tolerably': 818, 'remainder': 659, 'direction': 208, 'handsome': 357, 'anxious': 42, 'although': 32, 'enquire': 254, 'painful': 572, 'does': 222, 'sent': 701, 'position': 604, 'stood': 760, 'terms': 795, 'rapid': 643, 'begin': 78, 'letter': 460, 'wooded': 891, 'direct': 207, 'indeed': 407, 'perceived': 584, 'old': 554, 'minutes': 502, 'without': 887, 'started': 756, 'gentleman': 339, 'preserved': 613, 'coming': 138, 'simple': 719, 'longer': 471, 'houses': 387, 'pure': 633, 'late': 449, 'sigh': 718, 'were': 868, 'sing': 723, 'myself': 520, 'spirits': 748, 'formerly': 319, 'given': 343, 'scale': 691, 'above': 1, 'delivered': 191, 'woman': 889, 'could': 166, 'folly': 313, 'objection': 542, 'contained': 152, 'because': 73, 'account': 4, 'evident': 267, 'subject': 768, 'properly': 626, 'learning': 454, 'doubtful': 226, 'good': 345, 'feet': 301, 'moderate': 507, 'feelings': 300, 'exeter': 274, 'plenty': 598, 'uneasy': 832, 'sentiments': 702, 'promise': 624, 'unsatiable': 838, 'wife': 878, 'set': 704, 'half': 354, 'wish': 882, 'hard': 360, 'true': 825, 'finished': 310, 'between': 89, 'produce': 622, 'compact': 140, 'simplicity': 720, 'reasonably': 649, 'views': 847, 'near': 523, 'west': 869, 'dine': 205, 'strongly': 765, 'unpleasant': 836, 'inhabiting': 411, 'bred': 100, 'come': 136, 'explained': 279, 'remaining': 660, 'county': 168, 'length': 458, 'sincerity': 722, 'therefore': 803, 'forfeited': 317, 'questions': 637, 'amongst': 35, 'distant': 218, 'however': 389, 'wishing': 885, 'prudent': 632, 'delightful': 190, 'insipidity': 416, 'resolution': 676, 'most': 512, 'admitting': 15, 'disposing': 215, 'spoil': 749, 'arise': 49, 'valley': 842, 'themselves': 801, 'hope': 381, 'improving': 402, 'something': 737, 'high': 376, 'roof': 684, 'open': 557, 'precaution': 608, 'worse': 894, 'dissimilar': 216, 'necessary': 526, 'prevailed': 617, 'miss': 503, 'knowledge': 440}\n"
     ]
    }
   ],
   "source": [
    "print(vectorizer1.vocabulary_)"
   ]
  },
  {
   "cell_type": "code",
   "execution_count": 42,
   "metadata": {},
   "outputs": [
    {
     "name": "stdout",
     "output_type": "stream",
     "text": [
      "[1.91629073 1.91629073 1.51082562 1.91629073 1.91629073 1.51082562\n",
      " 1.91629073 1.91629073 1.22314355 1.91629073 1.51082562 1.91629073\n",
      " 1.51082562 1.22314355 1.91629073 1.91629073 1.22314355 1.91629073\n",
      " 1.51082562 1.91629073 1.51082562 1.91629073 1.91629073 1.51082562\n",
      " 1.22314355 1.51082562 1.91629073 1.91629073 1.91629073 1.91629073\n",
      " 1.51082562 1.91629073 1.91629073 1.22314355 1.         1.91629073\n",
      " 1.         1.         1.22314355 1.51082562 1.51082562 1.51082562\n",
      " 1.91629073 1.22314355 1.22314355 1.91629073 1.51082562 1.51082562\n",
      " 1.22314355 1.91629073 1.51082562 1.51082562 1.51082562 1.\n",
      " 1.51082562 1.         1.22314355 1.91629073 1.51082562 1.51082562\n",
      " 1.         1.51082562 1.51082562 1.91629073 1.51082562 1.51082562\n",
      " 1.51082562 1.91629073 1.51082562 1.91629073 1.22314355 1.91629073\n",
      " 1.         1.91629073 1.91629073 1.         1.91629073 1.91629073\n",
      " 1.91629073 1.51082562 1.91629073 1.51082562 1.22314355 1.91629073\n",
      " 1.51082562 1.51082562 1.91629073 1.51082562 1.91629073 1.91629073\n",
      " 1.91629073 1.22314355 1.51082562 1.51082562 1.91629073 1.91629073\n",
      " 1.91629073 1.22314355 1.91629073 1.91629073 1.91629073 1.91629073\n",
      " 1.91629073 1.51082562 1.91629073 1.51082562 1.         1.\n",
      " 1.51082562 1.91629073 1.51082562 1.51082562 1.91629073 1.91629073\n",
      " 1.51082562 1.51082562 1.22314355 1.51082562 1.51082562 1.91629073\n",
      " 1.91629073 1.51082562 1.22314355 1.51082562 1.51082562 1.22314355\n",
      " 1.91629073 1.91629073 1.91629073 1.51082562 1.91629073 1.91629073\n",
      " 1.91629073 1.91629073 1.22314355 1.51082562 1.91629073 1.51082562\n",
      " 1.91629073 1.91629073 1.91629073 1.91629073 1.91629073 1.22314355\n",
      " 1.91629073 1.22314355 1.51082562 1.91629073 1.91629073 1.51082562\n",
      " 1.51082562 1.91629073 1.91629073 1.91629073 1.91629073 1.51082562\n",
      " 1.91629073 1.51082562 1.91629073 1.91629073 1.51082562 1.51082562\n",
      " 1.51082562 1.91629073 1.91629073 1.51082562 1.91629073 1.91629073\n",
      " 1.91629073 1.91629073 1.51082562 1.91629073 1.91629073 1.91629073\n",
      " 1.         1.22314355 1.91629073 1.51082562 1.51082562 1.51082562\n",
      " 1.51082562 1.22314355 1.91629073 1.51082562 1.91629073 1.22314355\n",
      " 1.91629073 1.91629073 1.91629073 1.51082562 1.91629073 1.91629073\n",
      " 1.91629073 1.91629073 1.51082562 1.91629073 1.91629073 1.51082562\n",
      " 1.91629073 1.91629073 1.22314355 1.         1.51082562 1.51082562\n",
      " 1.51082562 1.91629073 1.51082562 1.91629073 1.91629073 1.91629073\n",
      " 1.51082562 1.91629073 1.51082562 1.51082562 1.51082562 1.91629073\n",
      " 1.91629073 1.91629073 1.91629073 1.91629073 1.91629073 1.\n",
      " 1.91629073 1.22314355 1.51082562 1.22314355 1.91629073 1.22314355\n",
      " 1.91629073 1.51082562 1.51082562 1.51082562 1.22314355 1.22314355\n",
      " 1.51082562 1.         1.22314355 1.22314355 1.51082562 1.51082562\n",
      " 1.91629073 1.51082562 1.51082562 1.91629073 1.91629073 1.91629073\n",
      " 1.91629073 1.22314355 1.51082562 1.91629073 1.91629073 1.22314355\n",
      " 1.51082562 1.51082562 1.91629073 1.22314355 1.91629073 1.91629073\n",
      " 1.51082562 1.22314355 1.91629073 1.51082562 1.91629073 1.51082562\n",
      " 1.91629073 1.91629073 1.22314355 1.91629073 1.51082562 1.51082562\n",
      " 1.91629073 1.22314355 1.91629073 1.91629073 1.91629073 1.51082562\n",
      " 1.91629073 1.22314355 1.91629073 1.91629073 1.22314355 1.91629073\n",
      " 1.51082562 1.51082562 1.91629073 1.91629073 1.51082562 1.51082562\n",
      " 1.91629073 1.91629073 1.91629073 1.91629073 1.22314355 1.51082562\n",
      " 1.22314355 1.91629073 1.22314355 1.51082562 1.91629073 1.91629073\n",
      " 1.91629073 1.91629073 1.51082562 1.91629073 1.91629073 1.22314355\n",
      " 1.51082562 1.91629073 1.51082562 1.51082562 1.91629073 1.51082562\n",
      " 1.         1.91629073 1.91629073 1.         1.51082562 1.91629073\n",
      " 1.91629073 1.91629073 1.51082562 1.91629073 1.91629073 1.91629073\n",
      " 1.91629073 1.22314355 1.91629073 1.22314355 1.91629073 1.91629073\n",
      " 1.91629073 1.91629073 1.91629073 1.22314355 1.91629073 1.91629073\n",
      " 1.91629073 1.         1.91629073 1.91629073 1.         1.51082562\n",
      " 1.91629073 1.91629073 1.         1.91629073 1.51082562 1.91629073\n",
      " 1.91629073 1.51082562 1.22314355 1.91629073 1.51082562 1.22314355\n",
      " 1.91629073 1.22314355 1.91629073 1.91629073 1.91629073 1.91629073\n",
      " 1.91629073 1.51082562 1.22314355 1.91629073 1.91629073 1.51082562\n",
      " 1.         1.51082562 1.91629073 1.51082562 1.91629073 1.91629073\n",
      " 1.51082562 1.51082562 1.         1.91629073 1.91629073 1.91629073\n",
      " 1.         1.         1.91629073 1.91629073 1.         1.51082562\n",
      " 1.51082562 1.91629073 1.91629073 1.91629073 1.22314355 1.91629073\n",
      " 1.91629073 1.51082562 1.51082562 1.91629073 1.91629073 1.\n",
      " 1.91629073 1.51082562 1.22314355 1.51082562 1.91629073 1.51082562\n",
      " 1.91629073 1.         1.51082562 1.51082562 1.22314355 1.91629073\n",
      " 1.51082562 1.91629073 1.91629073 1.91629073 1.91629073 1.51082562\n",
      " 1.51082562 1.91629073 1.91629073 1.91629073 1.51082562 1.91629073\n",
      " 1.91629073 1.51082562 1.51082562 1.22314355 1.91629073 1.51082562\n",
      " 1.         1.         1.51082562 1.51082562 1.91629073 1.91629073\n",
      " 1.22314355 1.51082562 1.51082562 1.22314355 1.51082562 1.22314355\n",
      " 1.91629073 1.51082562 1.91629073 1.91629073 1.51082562 1.51082562\n",
      " 1.51082562 1.91629073 1.91629073 1.51082562 1.51082562 1.91629073\n",
      " 1.91629073 1.51082562 1.91629073 1.91629073 1.91629073 1.91629073\n",
      " 1.91629073 1.22314355 1.91629073 1.91629073 1.91629073 1.51082562\n",
      " 1.91629073 1.51082562 1.         1.91629073 1.22314355 1.22314355\n",
      " 1.91629073 1.51082562 1.22314355 1.91629073 1.91629073 1.91629073\n",
      " 1.91629073 1.22314355 1.91629073 1.51082562 1.91629073 1.51082562\n",
      " 1.91629073 1.22314355 1.91629073 1.51082562 1.91629073 1.22314355\n",
      " 1.91629073 1.22314355 1.         1.51082562 1.51082562 1.91629073\n",
      " 1.51082562 1.22314355 1.51082562 1.91629073 1.91629073 1.91629073\n",
      " 1.         1.51082562 1.91629073 1.91629073 1.91629073 1.91629073\n",
      " 1.51082562 1.91629073 1.91629073 1.91629073 1.91629073 1.91629073\n",
      " 1.51082562 1.51082562 1.91629073 1.91629073 1.91629073 1.22314355\n",
      " 1.22314355 1.51082562 1.22314355 1.22314355 1.91629073 1.51082562\n",
      " 1.22314355 1.91629073 1.91629073 1.51082562 1.91629073 1.51082562\n",
      " 1.51082562 1.22314355 1.51082562 1.22314355 1.         1.91629073\n",
      " 1.51082562 1.         1.91629073 1.         1.91629073 1.\n",
      " 1.91629073 1.51082562 1.91629073 1.91629073 1.51082562 1.91629073\n",
      " 1.         1.         1.51082562 1.22314355 1.51082562 1.91629073\n",
      " 1.51082562 1.         1.91629073 1.         1.51082562 1.91629073\n",
      " 1.51082562 1.91629073 1.91629073 1.         1.91629073 1.91629073\n",
      " 1.51082562 1.22314355 1.22314355 1.         1.         1.22314355\n",
      " 1.91629073 1.91629073 1.91629073 1.51082562 1.91629073 1.22314355\n",
      " 1.51082562 1.22314355 1.51082562 1.91629073 1.91629073 1.51082562\n",
      " 1.22314355 1.91629073 1.91629073 1.22314355 1.91629073 1.91629073\n",
      " 1.91629073 1.         1.51082562 1.51082562 1.91629073 1.91629073\n",
      " 1.51082562 1.91629073 1.51082562 1.51082562 1.91629073 1.51082562\n",
      " 1.51082562 1.91629073 1.22314355 1.51082562 1.91629073 1.91629073\n",
      " 1.51082562 1.51082562 1.91629073 1.91629073 1.91629073 1.51082562\n",
      " 1.91629073 1.91629073 1.51082562 1.91629073 1.91629073 1.91629073\n",
      " 1.22314355 1.22314355 1.91629073 1.51082562 1.91629073 1.22314355\n",
      " 1.91629073 1.51082562 1.91629073 1.91629073 1.91629073 1.51082562\n",
      " 1.91629073 1.91629073 1.91629073 1.91629073 1.91629073 1.51082562\n",
      " 1.51082562 1.91629073 1.91629073 1.51082562 1.91629073 1.51082562\n",
      " 1.51082562 1.91629073 1.91629073 1.51082562 1.91629073 1.91629073\n",
      " 1.91629073 1.91629073 1.91629073 1.22314355 1.51082562 1.\n",
      " 1.51082562 1.91629073 1.91629073 1.91629073 1.51082562 1.91629073\n",
      " 1.91629073 1.22314355 1.91629073 1.91629073 1.91629073 1.51082562\n",
      " 1.91629073 1.91629073 1.51082562 1.22314355 1.91629073 1.51082562\n",
      " 1.51082562 1.91629073 1.51082562 1.51082562 1.91629073 1.91629073\n",
      " 1.51082562 1.22314355 1.51082562 1.91629073 1.91629073 1.22314355\n",
      " 1.91629073 1.51082562 1.51082562 1.51082562 1.51082562 1.\n",
      " 1.22314355 1.91629073 1.91629073 1.91629073 1.51082562 1.51082562\n",
      " 1.91629073 1.51082562 1.51082562 1.51082562 1.91629073 1.91629073\n",
      " 1.91629073 1.91629073 1.91629073 1.91629073 1.91629073 1.51082562\n",
      " 1.22314355 1.22314355 1.         1.91629073 1.91629073 1.91629073\n",
      " 1.51082562 1.91629073 1.22314355 1.91629073 1.91629073 1.91629073\n",
      " 1.91629073 1.91629073 1.91629073 1.91629073 1.         1.51082562\n",
      " 1.51082562 1.91629073 1.51082562 1.22314355 1.51082562 1.91629073\n",
      " 1.91629073 1.91629073 1.         1.91629073 1.51082562 1.91629073\n",
      " 1.51082562 1.51082562 1.51082562 1.51082562 1.91629073 1.51082562\n",
      " 1.91629073 1.51082562 1.91629073 1.22314355 1.91629073 1.91629073\n",
      " 1.91629073 1.51082562 1.51082562 1.91629073 1.51082562 1.91629073\n",
      " 1.91629073 1.51082562 1.91629073 1.91629073 1.91629073 1.51082562\n",
      " 1.91629073 1.51082562 1.51082562 1.91629073 1.91629073 1.91629073\n",
      " 1.91629073 1.91629073 1.91629073 1.51082562 1.51082562 1.91629073\n",
      " 1.91629073 1.91629073 1.91629073 1.91629073 1.51082562 1.91629073\n",
      " 1.91629073 1.91629073 1.91629073 1.91629073 1.91629073 1.22314355\n",
      " 1.91629073 1.51082562 1.51082562 1.51082562 1.91629073 1.51082562\n",
      " 1.91629073 1.51082562 1.51082562 1.91629073 1.         1.\n",
      " 1.51082562 1.91629073 1.51082562 1.91629073 1.51082562 1.91629073\n",
      " 1.51082562 1.22314355 1.51082562 1.91629073 1.91629073 1.22314355\n",
      " 1.91629073 1.91629073 1.91629073 1.51082562 1.51082562 1.91629073\n",
      " 1.         1.         1.91629073 1.51082562 1.51082562 1.22314355\n",
      " 1.         1.51082562 1.51082562 1.91629073 1.51082562 1.22314355\n",
      " 1.         1.51082562 1.91629073 1.91629073 1.91629073 1.51082562\n",
      " 1.22314355 1.51082562 1.91629073 1.91629073 1.91629073 1.51082562\n",
      " 1.         1.         1.91629073 1.91629073 1.91629073 1.91629073\n",
      " 1.91629073 1.91629073 1.91629073 1.91629073 1.51082562 1.91629073\n",
      " 1.22314355 1.22314355 1.91629073 1.51082562 1.91629073 1.51082562\n",
      " 1.51082562 1.51082562 1.22314355 1.22314355 1.         1.\n",
      " 1.51082562 1.91629073 1.51082562 1.51082562 1.91629073 1.91629073\n",
      " 1.22314355 1.51082562 1.91629073 1.51082562 1.         1.91629073\n",
      " 1.91629073 1.22314355 1.91629073 1.51082562 1.91629073 1.91629073\n",
      " 1.91629073 1.51082562 1.91629073 1.91629073 1.22314355 1.91629073\n",
      " 1.91629073 1.91629073 1.91629073 1.91629073 1.91629073 1.91629073\n",
      " 1.91629073 1.91629073 1.22314355 1.22314355 1.91629073 1.91629073\n",
      " 1.         1.91629073 1.         1.         1.51082562 1.91629073]\n"
     ]
    }
   ],
   "source": [
    "print(vectorizer1.idf_)"
   ]
  },
  {
   "cell_type": "code",
   "execution_count": 43,
   "metadata": {},
   "outputs": [],
   "source": [
    "text = Path(\"file6.txt\").read_text()\n",
    "text = text.replace('\\n', '')\n",
    "newvector1 = vectorizer1.transform([text])"
   ]
  },
  {
   "cell_type": "code",
   "execution_count": 44,
   "metadata": {},
   "outputs": [
    {
     "name": "stdout",
     "output_type": "stream",
     "text": [
      "  (0, 905)\t0.12138137096343554\n",
      "  (0, 903)\t0.042227889865376574\n",
      "  (0, 902)\t0.021113944932688287\n",
      "  (0, 898)\t0.040460456987811845\n",
      "  (0, 882)\t0.040460456987811845\n",
      "  (0, 877)\t0.025825385587221014\n",
      "  (0, 873)\t0.03189948902308956\n",
      "  (0, 872)\t0.040460456987811845\n",
      "  (0, 871)\t0.03189948902308956\n",
      "  (0, 863)\t0.06334183479806486\n",
      "  (0, 862)\t0.06334183479806486\n",
      "  (0, 861)\t0.05165077117444203\n",
      "  (0, 859)\t0.03189948902308956\n",
      "  (0, 856)\t0.040460456987811845\n",
      "  (0, 846)\t0.040460456987811845\n",
      "  (0, 844)\t0.040460456987811845\n",
      "  (0, 842)\t0.040460456987811845\n",
      "  (0, 841)\t0.021113944932688287\n",
      "  (0, 840)\t0.06334183479806486\n",
      "  (0, 839)\t0.03189948902308956\n",
      "  (0, 838)\t0.040460456987811845\n",
      "  (0, 835)\t0.03189948902308956\n",
      "  (0, 833)\t0.06379897804617912\n",
      "  (0, 829)\t0.03189948902308956\n",
      "  (0, 827)\t0.05165077117444203\n",
      "  :\t:\n",
      "  (0, 72)\t0.08445577973075315\n",
      "  (0, 66)\t0.03189948902308956\n",
      "  (0, 64)\t0.03189948902308956\n",
      "  (0, 63)\t0.040460456987811845\n",
      "  (0, 60)\t0.08445577973075315\n",
      "  (0, 59)\t0.03189948902308956\n",
      "  (0, 55)\t0.021113944932688287\n",
      "  (0, 53)\t0.19002550439419458\n",
      "  (0, 48)\t0.07747615676166304\n",
      "  (0, 47)\t0.03189948902308956\n",
      "  (0, 44)\t0.025825385587221014\n",
      "  (0, 43)\t0.025825385587221014\n",
      "  (0, 39)\t0.03189948902308956\n",
      "  (0, 37)\t0.021113944932688287\n",
      "  (0, 36)\t0.10556972466344143\n",
      "  (0, 34)\t0.10556972466344143\n",
      "  (0, 27)\t0.08092091397562369\n",
      "  (0, 24)\t0.025825385587221014\n",
      "  (0, 18)\t0.03189948902308956\n",
      "  (0, 15)\t0.040460456987811845\n",
      "  (0, 9)\t0.040460456987811845\n",
      "  (0, 8)\t0.10330154234888406\n",
      "  (0, 7)\t0.040460456987811845\n",
      "  (0, 5)\t0.03189948902308956\n",
      "  (0, 0)\t0.08092091397562369\n"
     ]
    }
   ],
   "source": [
    "print(newvector1)"
   ]
  },
  {
   "cell_type": "code",
   "execution_count": null,
   "metadata": {},
   "outputs": [],
   "source": []
  }
 ],
 "metadata": {
  "kernelspec": {
   "display_name": "Python 3",
   "language": "python",
   "name": "python3"
  },
  "language_info": {
   "codemirror_mode": {
    "name": "ipython",
    "version": 3
   },
   "file_extension": ".py",
   "mimetype": "text/x-python",
   "name": "python",
   "nbconvert_exporter": "python",
   "pygments_lexer": "ipython3",
   "version": "3.8.4"
  }
 },
 "nbformat": 4,
 "nbformat_minor": 4
}
