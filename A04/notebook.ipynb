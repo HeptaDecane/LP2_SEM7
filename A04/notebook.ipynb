{
  "nbformat": 4,
  "nbformat_minor": 0,
  "metadata": {
    "colab": {
      "name": "notebook.ipynb",
      "provenance": [],
      "authorship_tag": "ABX9TyP0x6jqtTRYJKLGkBfX0SQS",
      "include_colab_link": true
    },
    "kernelspec": {
      "name": "python3",
      "display_name": "Python 3"
    },
    "language_info": {
      "name": "python"
    }
  },
  "cells": [
    {
      "cell_type": "markdown",
      "metadata": {
        "id": "view-in-github",
        "colab_type": "text"
      },
      "source": [
        "<a href=\"https://colab.research.google.com/github/HeptaDecane/LP2_SEM7/blob/main/A04/notebook.ipynb\" target=\"_parent\"><img src=\"https://colab.research.google.com/assets/colab-badge.svg\" alt=\"Open In Colab\"/></a>"
      ]
    },
    {
      "cell_type": "code",
      "metadata": {
        "colab": {
          "base_uri": "https://localhost:8080/"
        },
        "id": "ZUaDZyolRRAt",
        "outputId": "d8552e32-6b16-4ec9-bce0-663ce007e0b1"
      },
      "source": [
        "!curl https://raw.githubusercontent.com/HeptaDecane/LP2_SEM7/main/A04/ImdbDataset.csv --output ImdbDataset.csv"
      ],
      "execution_count": 1,
      "outputs": [
        {
          "output_type": "stream",
          "name": "stdout",
          "text": [
            "  % Total    % Received % Xferd  Average Speed   Time    Time     Time  Current\n",
            "                                 Dload  Upload   Total   Spent    Left  Speed\n",
            "100 63.1M  100 63.1M    0     0   137M      0 --:--:-- --:--:-- --:--:--  137M\n"
          ]
        }
      ]
    },
    {
      "cell_type": "code",
      "metadata": {
        "id": "xkNBaSqeo4O3"
      },
      "source": [
        "import numpy as np\n",
        "import pandas as pd\n",
        "\n",
        "import seaborn as sns\n",
        "import matplotlib.pyplot as plt\n",
        "\n",
        "from sklearn import metrics\n",
        "from sklearn.model_selection import train_test_split\n",
        "from sklearn.naive_bayes import MultinomialNB"
      ],
      "execution_count": 2,
      "outputs": []
    },
    {
      "cell_type": "code",
      "metadata": {
        "id": "C3c8poICpGxB",
        "colab": {
          "base_uri": "https://localhost:8080/",
          "height": 422
        },
        "outputId": "7a647057-ae8c-4189-fbdc-8a6cdc5cdb62"
      },
      "source": [
        "df = pd.read_csv('ImdbDataset.csv')\n",
        "df"
      ],
      "execution_count": 3,
      "outputs": [
        {
          "output_type": "execute_result",
          "data": {
            "text/html": [
              "<div>\n",
              "<style scoped>\n",
              "    .dataframe tbody tr th:only-of-type {\n",
              "        vertical-align: middle;\n",
              "    }\n",
              "\n",
              "    .dataframe tbody tr th {\n",
              "        vertical-align: top;\n",
              "    }\n",
              "\n",
              "    .dataframe thead th {\n",
              "        text-align: right;\n",
              "    }\n",
              "</style>\n",
              "<table border=\"1\" class=\"dataframe\">\n",
              "  <thead>\n",
              "    <tr style=\"text-align: right;\">\n",
              "      <th></th>\n",
              "      <th>review</th>\n",
              "      <th>sentiment</th>\n",
              "    </tr>\n",
              "  </thead>\n",
              "  <tbody>\n",
              "    <tr>\n",
              "      <th>0</th>\n",
              "      <td>One of the other reviewers has mentioned that ...</td>\n",
              "      <td>positive</td>\n",
              "    </tr>\n",
              "    <tr>\n",
              "      <th>1</th>\n",
              "      <td>A wonderful little production. &lt;br /&gt;&lt;br /&gt;The...</td>\n",
              "      <td>positive</td>\n",
              "    </tr>\n",
              "    <tr>\n",
              "      <th>2</th>\n",
              "      <td>I thought this was a wonderful way to spend ti...</td>\n",
              "      <td>positive</td>\n",
              "    </tr>\n",
              "    <tr>\n",
              "      <th>3</th>\n",
              "      <td>Basically there's a family where a little boy ...</td>\n",
              "      <td>negative</td>\n",
              "    </tr>\n",
              "    <tr>\n",
              "      <th>4</th>\n",
              "      <td>Petter Mattei's \"Love in the Time of Money\" is...</td>\n",
              "      <td>positive</td>\n",
              "    </tr>\n",
              "    <tr>\n",
              "      <th>...</th>\n",
              "      <td>...</td>\n",
              "      <td>...</td>\n",
              "    </tr>\n",
              "    <tr>\n",
              "      <th>49995</th>\n",
              "      <td>I thought this movie did a down right good job...</td>\n",
              "      <td>positive</td>\n",
              "    </tr>\n",
              "    <tr>\n",
              "      <th>49996</th>\n",
              "      <td>Bad plot, bad dialogue, bad acting, idiotic di...</td>\n",
              "      <td>negative</td>\n",
              "    </tr>\n",
              "    <tr>\n",
              "      <th>49997</th>\n",
              "      <td>I am a Catholic taught in parochial elementary...</td>\n",
              "      <td>negative</td>\n",
              "    </tr>\n",
              "    <tr>\n",
              "      <th>49998</th>\n",
              "      <td>I'm going to have to disagree with the previou...</td>\n",
              "      <td>negative</td>\n",
              "    </tr>\n",
              "    <tr>\n",
              "      <th>49999</th>\n",
              "      <td>No one expects the Star Trek movies to be high...</td>\n",
              "      <td>negative</td>\n",
              "    </tr>\n",
              "  </tbody>\n",
              "</table>\n",
              "<p>50000 rows × 2 columns</p>\n",
              "</div>"
            ],
            "text/plain": [
              "                                                  review sentiment\n",
              "0      One of the other reviewers has mentioned that ...  positive\n",
              "1      A wonderful little production. <br /><br />The...  positive\n",
              "2      I thought this was a wonderful way to spend ti...  positive\n",
              "3      Basically there's a family where a little boy ...  negative\n",
              "4      Petter Mattei's \"Love in the Time of Money\" is...  positive\n",
              "...                                                  ...       ...\n",
              "49995  I thought this movie did a down right good job...  positive\n",
              "49996  Bad plot, bad dialogue, bad acting, idiotic di...  negative\n",
              "49997  I am a Catholic taught in parochial elementary...  negative\n",
              "49998  I'm going to have to disagree with the previou...  negative\n",
              "49999  No one expects the Star Trek movies to be high...  negative\n",
              "\n",
              "[50000 rows x 2 columns]"
            ]
          },
          "metadata": {},
          "execution_count": 3
        }
      ]
    },
    {
      "cell_type": "code",
      "metadata": {
        "id": "qPMfk-gypaJr",
        "colab": {
          "base_uri": "https://localhost:8080/"
        },
        "outputId": "bde8b259-e97b-4f8f-d909-2975366622a5"
      },
      "source": [
        "df.info()"
      ],
      "execution_count": 4,
      "outputs": [
        {
          "output_type": "stream",
          "name": "stdout",
          "text": [
            "<class 'pandas.core.frame.DataFrame'>\n",
            "RangeIndex: 50000 entries, 0 to 49999\n",
            "Data columns (total 2 columns):\n",
            " #   Column     Non-Null Count  Dtype \n",
            "---  ------     --------------  ----- \n",
            " 0   review     50000 non-null  object\n",
            " 1   sentiment  50000 non-null  object\n",
            "dtypes: object(2)\n",
            "memory usage: 781.4+ KB\n"
          ]
        }
      ]
    },
    {
      "cell_type": "code",
      "metadata": {
        "id": "zjwREA0bpgv9",
        "colab": {
          "base_uri": "https://localhost:8080/",
          "height": 205
        },
        "outputId": "9fa25aaf-58cf-452d-b42f-cc8e62b794fe"
      },
      "source": [
        "df['sentiment'] = df['sentiment'].map({'positive':1, 'negative':0})\n",
        "df.head()"
      ],
      "execution_count": 5,
      "outputs": [
        {
          "output_type": "execute_result",
          "data": {
            "text/html": [
              "<div>\n",
              "<style scoped>\n",
              "    .dataframe tbody tr th:only-of-type {\n",
              "        vertical-align: middle;\n",
              "    }\n",
              "\n",
              "    .dataframe tbody tr th {\n",
              "        vertical-align: top;\n",
              "    }\n",
              "\n",
              "    .dataframe thead th {\n",
              "        text-align: right;\n",
              "    }\n",
              "</style>\n",
              "<table border=\"1\" class=\"dataframe\">\n",
              "  <thead>\n",
              "    <tr style=\"text-align: right;\">\n",
              "      <th></th>\n",
              "      <th>review</th>\n",
              "      <th>sentiment</th>\n",
              "    </tr>\n",
              "  </thead>\n",
              "  <tbody>\n",
              "    <tr>\n",
              "      <th>0</th>\n",
              "      <td>One of the other reviewers has mentioned that ...</td>\n",
              "      <td>1</td>\n",
              "    </tr>\n",
              "    <tr>\n",
              "      <th>1</th>\n",
              "      <td>A wonderful little production. &lt;br /&gt;&lt;br /&gt;The...</td>\n",
              "      <td>1</td>\n",
              "    </tr>\n",
              "    <tr>\n",
              "      <th>2</th>\n",
              "      <td>I thought this was a wonderful way to spend ti...</td>\n",
              "      <td>1</td>\n",
              "    </tr>\n",
              "    <tr>\n",
              "      <th>3</th>\n",
              "      <td>Basically there's a family where a little boy ...</td>\n",
              "      <td>0</td>\n",
              "    </tr>\n",
              "    <tr>\n",
              "      <th>4</th>\n",
              "      <td>Petter Mattei's \"Love in the Time of Money\" is...</td>\n",
              "      <td>1</td>\n",
              "    </tr>\n",
              "  </tbody>\n",
              "</table>\n",
              "</div>"
            ],
            "text/plain": [
              "                                              review  sentiment\n",
              "0  One of the other reviewers has mentioned that ...          1\n",
              "1  A wonderful little production. <br /><br />The...          1\n",
              "2  I thought this was a wonderful way to spend ti...          1\n",
              "3  Basically there's a family where a little boy ...          0\n",
              "4  Petter Mattei's \"Love in the Time of Money\" is...          1"
            ]
          },
          "metadata": {},
          "execution_count": 5
        }
      ]
    },
    {
      "cell_type": "code",
      "metadata": {
        "colab": {
          "base_uri": "https://localhost:8080/"
        },
        "id": "41ebLUTKYYnc",
        "outputId": "e5329880-c760-4a0d-eb55-199bab78e67f"
      },
      "source": [
        "import re\n",
        "import nltk\n",
        "nltk.download(\"stopwords\")"
      ],
      "execution_count": 6,
      "outputs": [
        {
          "output_type": "stream",
          "name": "stdout",
          "text": [
            "[nltk_data] Downloading package stopwords to /root/nltk_data...\n",
            "[nltk_data]   Package stopwords is already up-to-date!\n"
          ]
        },
        {
          "output_type": "execute_result",
          "data": {
            "text/plain": [
              "True"
            ]
          },
          "metadata": {},
          "execution_count": 6
        }
      ]
    },
    {
      "cell_type": "code",
      "metadata": {
        "colab": {
          "base_uri": "https://localhost:8080/"
        },
        "id": "eVEddUfMarKI",
        "outputId": "bcf28eab-af46-4b0c-8f27-8ca335402a54"
      },
      "source": [
        "from nltk.corpus import stopwords\n",
        "\n",
        "stop_words = stopwords.words('english')\n",
        "stop_words.remove('not')\n",
        "print(stop_words)"
      ],
      "execution_count": 7,
      "outputs": [
        {
          "output_type": "stream",
          "name": "stdout",
          "text": [
            "['i', 'me', 'my', 'myself', 'we', 'our', 'ours', 'ourselves', 'you', \"you're\", \"you've\", \"you'll\", \"you'd\", 'your', 'yours', 'yourself', 'yourselves', 'he', 'him', 'his', 'himself', 'she', \"she's\", 'her', 'hers', 'herself', 'it', \"it's\", 'its', 'itself', 'they', 'them', 'their', 'theirs', 'themselves', 'what', 'which', 'who', 'whom', 'this', 'that', \"that'll\", 'these', 'those', 'am', 'is', 'are', 'was', 'were', 'be', 'been', 'being', 'have', 'has', 'had', 'having', 'do', 'does', 'did', 'doing', 'a', 'an', 'the', 'and', 'but', 'if', 'or', 'because', 'as', 'until', 'while', 'of', 'at', 'by', 'for', 'with', 'about', 'against', 'between', 'into', 'through', 'during', 'before', 'after', 'above', 'below', 'to', 'from', 'up', 'down', 'in', 'out', 'on', 'off', 'over', 'under', 'again', 'further', 'then', 'once', 'here', 'there', 'when', 'where', 'why', 'how', 'all', 'any', 'both', 'each', 'few', 'more', 'most', 'other', 'some', 'such', 'no', 'nor', 'only', 'own', 'same', 'so', 'than', 'too', 'very', 's', 't', 'can', 'will', 'just', 'don', \"don't\", 'should', \"should've\", 'now', 'd', 'll', 'm', 'o', 're', 've', 'y', 'ain', 'aren', \"aren't\", 'couldn', \"couldn't\", 'didn', \"didn't\", 'doesn', \"doesn't\", 'hadn', \"hadn't\", 'hasn', \"hasn't\", 'haven', \"haven't\", 'isn', \"isn't\", 'ma', 'mightn', \"mightn't\", 'mustn', \"mustn't\", 'needn', \"needn't\", 'shan', \"shan't\", 'shouldn', \"shouldn't\", 'wasn', \"wasn't\", 'weren', \"weren't\", 'won', \"won't\", 'wouldn', \"wouldn't\"]\n"
          ]
        }
      ]
    },
    {
      "cell_type": "code",
      "metadata": {
        "id": "BAqwokVisRKc"
      },
      "source": [
        "from nltk.stem.porter import PorterStemmer\n",
        "\n",
        "stemmer = PorterStemmer()\n",
        "\n",
        "def clean_text(text):\n",
        "    text = text.lower()\n",
        "    text = text.replace('<br />','')\n",
        "    text = text.replace('<br/>', '')\n",
        "    text = re.sub('[^a-z]',' ',text)\n",
        "    text = text.split()\n",
        "    words = [stemmer.stem(word) for word in text if not word in set(stop_words)]\n",
        "    text = ' '.join(words)                       \n",
        "    return text"
      ],
      "execution_count": 8,
      "outputs": []
    },
    {
      "cell_type": "code",
      "metadata": {
        "colab": {
          "base_uri": "https://localhost:8080/"
        },
        "id": "etbsyixXs4ga",
        "outputId": "b2e2d6fa-219c-4fd3-cbb6-bf5a9707e5bd"
      },
      "source": [
        "df['review'] = df['review'].apply(lambda review: clean_text(review))\n",
        "df['review'].head()"
      ],
      "execution_count": 9,
      "outputs": [
        {
          "output_type": "execute_result",
          "data": {
            "text/plain": [
              "0    one review mention watch oz episod hook right ...\n",
              "1    wonder littl product film techniqu unassum old...\n",
              "2    thought wonder way spend time hot summer weeke...\n",
              "3    basic famili littl boy jake think zombi closet...\n",
              "4    petter mattei love time money visual stun film...\n",
              "Name: review, dtype: object"
            ]
          },
          "metadata": {},
          "execution_count": 9
        }
      ]
    },
    {
      "cell_type": "code",
      "metadata": {
        "id": "jOsvuN81uY0M"
      },
      "source": [
        "x = df['review']\n",
        "y = df['sentiment']\n",
        "x_train, x_test, y_train, y_test = train_test_split(x,y,test_size=0.25,random_state=73)"
      ],
      "execution_count": 10,
      "outputs": []
    },
    {
      "cell_type": "code",
      "metadata": {
        "id": "oJZzCkI7xzbN"
      },
      "source": [
        "from sklearn.feature_extraction.text import TfidfVectorizer\n",
        "vectorizer = TfidfVectorizer(max_features=10000)\n",
        "\n",
        "vectorizer.fit(df['review'])\n",
        "x_train = vectorizer.transform(x_train)\n",
        "x_test = vectorizer.transform(x_test)"
      ],
      "execution_count": 11,
      "outputs": []
    },
    {
      "cell_type": "code",
      "metadata": {
        "id": "FPlDYl1nXhmO"
      },
      "source": [
        "# vectorizer.vocabulary_"
      ],
      "execution_count": 12,
      "outputs": []
    },
    {
      "cell_type": "code",
      "metadata": {
        "colab": {
          "base_uri": "https://localhost:8080/"
        },
        "id": "Fsf8YlymCjVc",
        "outputId": "a1fc5455-3312-41fe-a0a1-a13309c86fe3"
      },
      "source": [
        "print(x_train)"
      ],
      "execution_count": 13,
      "outputs": [
        {
          "output_type": "stream",
          "name": "stdout",
          "text": [
            "  (0, 9959)\t0.09290163810807579\n",
            "  (0, 9735)\t0.06279746064472047\n",
            "  (0, 9729)\t0.13586214000968874\n",
            "  (0, 9684)\t0.057332319381930265\n",
            "  (0, 9659)\t0.17649828984372273\n",
            "  (0, 9617)\t0.2268857508002915\n",
            "  (0, 9305)\t0.16381075700560466\n",
            "  (0, 9025)\t0.10868926551224542\n",
            "  (0, 8961)\t0.25403355317527276\n",
            "  (0, 8577)\t0.10872685942617832\n",
            "  (0, 8279)\t0.10319423028751934\n",
            "  (0, 8076)\t0.11642874290269481\n",
            "  (0, 7848)\t0.12326446133371552\n",
            "  (0, 7793)\t0.11321576448710348\n",
            "  (0, 7697)\t0.129200749148155\n",
            "  (0, 7501)\t0.08814746944190625\n",
            "  (0, 7441)\t0.2950046418304996\n",
            "  (0, 7435)\t0.09006602284731824\n",
            "  (0, 7153)\t0.08333424783973568\n",
            "  (0, 7146)\t0.17710721415333278\n",
            "  (0, 7123)\t0.10306275804745381\n",
            "  (0, 6813)\t0.19985680576542647\n",
            "  (0, 6794)\t0.13509574474476888\n",
            "  (0, 6605)\t0.30441401882448244\n",
            "  (0, 6545)\t0.08151147488589215\n",
            "  :\t:\n",
            "  (37499, 1595)\t0.0492005871556192\n",
            "  (37499, 1524)\t0.05853609645328196\n",
            "  (37499, 1499)\t0.047294513642451935\n",
            "  (37499, 1469)\t0.048147246504269145\n",
            "  (37499, 1439)\t0.07023895683582054\n",
            "  (37499, 1170)\t0.10227520706592036\n",
            "  (37499, 1099)\t0.09080359856572698\n",
            "  (37499, 1001)\t0.08273480394869831\n",
            "  (37499, 929)\t0.04709402163659443\n",
            "  (37499, 855)\t0.07132531147800265\n",
            "  (37499, 828)\t0.055136741031375204\n",
            "  (37499, 760)\t0.06742276282242218\n",
            "  (37499, 615)\t0.07510310414435552\n",
            "  (37499, 602)\t0.06333860631213609\n",
            "  (37499, 568)\t0.041977000217115874\n",
            "  (37499, 518)\t0.18993662804250824\n",
            "  (37499, 509)\t0.0889785913502585\n",
            "  (37499, 438)\t0.034731507780166634\n",
            "  (37499, 366)\t0.036575139873938775\n",
            "  (37499, 329)\t0.04452575374375134\n",
            "  (37499, 306)\t0.06511395729610119\n",
            "  (37499, 195)\t0.06601235199691813\n",
            "  (37499, 164)\t0.05803835077129399\n",
            "  (37499, 109)\t0.10240632586789034\n",
            "  (37499, 40)\t0.06208616437141953\n"
          ]
        }
      ]
    },
    {
      "cell_type": "code",
      "metadata": {
        "colab": {
          "base_uri": "https://localhost:8080/"
        },
        "id": "CuCd8aIXCn0p",
        "outputId": "cd2ebe0f-57fc-4055-a301-ffec38789dbf"
      },
      "source": [
        "print(x_test)"
      ],
      "execution_count": 14,
      "outputs": [
        {
          "output_type": "stream",
          "name": "stdout",
          "text": [
            "  (0, 9892)\t0.20383555058926328\n",
            "  (0, 9661)\t0.08301880666613018\n",
            "  (0, 9172)\t0.1921095775138967\n",
            "  (0, 9039)\t0.11343868871294127\n",
            "  (0, 8950)\t0.09757714550398244\n",
            "  (0, 8932)\t0.0755915723732292\n",
            "  (0, 8492)\t0.17498302339706603\n",
            "  (0, 8473)\t0.17787379754070887\n",
            "  (0, 8323)\t0.14249422510198512\n",
            "  (0, 8244)\t0.08958965389088576\n",
            "  (0, 8221)\t0.2537525569880813\n",
            "  (0, 7013)\t0.10269356786742348\n",
            "  (0, 6898)\t0.11956086784193688\n",
            "  (0, 6856)\t0.18024438505032694\n",
            "  (0, 6609)\t0.16357954702111532\n",
            "  (0, 6442)\t0.09079373592478315\n",
            "  (0, 5801)\t0.11432888025188787\n",
            "  (0, 5686)\t0.1587883334785956\n",
            "  (0, 5538)\t0.22556187385485577\n",
            "  (0, 5404)\t0.06202424061711628\n",
            "  (0, 5403)\t0.13364835758233448\n",
            "  (0, 5225)\t0.08514122050826281\n",
            "  (0, 5139)\t0.10643831801061217\n",
            "  (0, 4559)\t0.1942020831844242\n",
            "  (0, 4394)\t0.14416822290095765\n",
            "  :\t:\n",
            "  (12499, 1001)\t0.03801276765647634\n",
            "  (12499, 998)\t0.06888355656169609\n",
            "  (12499, 990)\t0.05163585692101016\n",
            "  (12499, 916)\t0.078169066073777\n",
            "  (12499, 913)\t0.060265591483204276\n",
            "  (12499, 912)\t0.10315368436545098\n",
            "  (12499, 760)\t0.030977601874969684\n",
            "  (12499, 745)\t0.03409170230439834\n",
            "  (12499, 619)\t0.060074353385686945\n",
            "  (12499, 613)\t0.0997517391328271\n",
            "  (12499, 602)\t0.029101123233714218\n",
            "  (12499, 514)\t0.047546103895694955\n",
            "  (12499, 474)\t0.05574942185872927\n",
            "  (12499, 446)\t0.0738214628988502\n",
            "  (12499, 438)\t0.06383000491184926\n",
            "  (12499, 383)\t0.10652027200841874\n",
            "  (12499, 342)\t0.0300532348293937\n",
            "  (12499, 240)\t0.04829557262219624\n",
            "  (12499, 238)\t0.041081931208132305\n",
            "  (12499, 232)\t0.037696897853684165\n",
            "  (12499, 210)\t0.10048760664792579\n",
            "  (12499, 173)\t0.04621735102780964\n",
            "  (12499, 80)\t0.029099822829735424\n",
            "  (12499, 74)\t0.02350573019306764\n",
            "  (12499, 14)\t0.04957430966513072\n"
          ]
        }
      ]
    },
    {
      "cell_type": "code",
      "metadata": {
        "colab": {
          "base_uri": "https://localhost:8080/"
        },
        "id": "dkGrfopl8hZ3",
        "outputId": "f76ef9e2-2524-47f1-a7ee-b37bbb13455c"
      },
      "source": [
        "model = MultinomialNB()\n",
        "model.fit(x_train,y_train)"
      ],
      "execution_count": 15,
      "outputs": [
        {
          "output_type": "execute_result",
          "data": {
            "text/plain": [
              "MultinomialNB(alpha=1.0, class_prior=None, fit_prior=True)"
            ]
          },
          "metadata": {},
          "execution_count": 15
        }
      ]
    },
    {
      "cell_type": "code",
      "metadata": {
        "colab": {
          "base_uri": "https://localhost:8080/"
        },
        "id": "P789IGqf8o70",
        "outputId": "62dac989-bce4-4079-b158-4a3323fe9bf0"
      },
      "source": [
        "model.score(x_train,y_train)"
      ],
      "execution_count": 16,
      "outputs": [
        {
          "output_type": "execute_result",
          "data": {
            "text/plain": [
              "0.87256"
            ]
          },
          "metadata": {},
          "execution_count": 16
        }
      ]
    },
    {
      "cell_type": "code",
      "metadata": {
        "id": "xYbqzcdy9fI2"
      },
      "source": [
        "test_set_prediction = model.predict(x_test)"
      ],
      "execution_count": 17,
      "outputs": []
    },
    {
      "cell_type": "code",
      "metadata": {
        "colab": {
          "base_uri": "https://localhost:8080/",
          "height": 112
        },
        "id": "UCrpPdfX9pS0",
        "outputId": "9e7dcc12-46eb-4856-b1da-a65ced63986c"
      },
      "source": [
        "matrix = metrics.confusion_matrix(y_test,test_set_prediction)\n",
        "matrix_df = pd.DataFrame(data=matrix,index=['-ve','+ve'],columns=['predicted -ve','predicted +ve'])\n",
        "matrix_df"
      ],
      "execution_count": 18,
      "outputs": [
        {
          "output_type": "execute_result",
          "data": {
            "text/html": [
              "<div>\n",
              "<style scoped>\n",
              "    .dataframe tbody tr th:only-of-type {\n",
              "        vertical-align: middle;\n",
              "    }\n",
              "\n",
              "    .dataframe tbody tr th {\n",
              "        vertical-align: top;\n",
              "    }\n",
              "\n",
              "    .dataframe thead th {\n",
              "        text-align: right;\n",
              "    }\n",
              "</style>\n",
              "<table border=\"1\" class=\"dataframe\">\n",
              "  <thead>\n",
              "    <tr style=\"text-align: right;\">\n",
              "      <th></th>\n",
              "      <th>predicted -ve</th>\n",
              "      <th>predicted +ve</th>\n",
              "    </tr>\n",
              "  </thead>\n",
              "  <tbody>\n",
              "    <tr>\n",
              "      <th>-ve</th>\n",
              "      <td>5292</td>\n",
              "      <td>878</td>\n",
              "    </tr>\n",
              "    <tr>\n",
              "      <th>+ve</th>\n",
              "      <td>911</td>\n",
              "      <td>5419</td>\n",
              "    </tr>\n",
              "  </tbody>\n",
              "</table>\n",
              "</div>"
            ],
            "text/plain": [
              "     predicted -ve  predicted +ve\n",
              "-ve           5292            878\n",
              "+ve            911           5419"
            ]
          },
          "metadata": {},
          "execution_count": 18
        }
      ]
    },
    {
      "cell_type": "code",
      "metadata": {
        "colab": {
          "base_uri": "https://localhost:8080/"
        },
        "id": "r0jZGiR09tXw",
        "outputId": "79fd2df8-a02f-4944-fb03-df111b7008e9"
      },
      "source": [
        "print(metrics.classification_report(y_test,test_set_prediction))"
      ],
      "execution_count": 19,
      "outputs": [
        {
          "output_type": "stream",
          "name": "stdout",
          "text": [
            "              precision    recall  f1-score   support\n",
            "\n",
            "           0       0.85      0.86      0.86      6170\n",
            "           1       0.86      0.86      0.86      6330\n",
            "\n",
            "    accuracy                           0.86     12500\n",
            "   macro avg       0.86      0.86      0.86     12500\n",
            "weighted avg       0.86      0.86      0.86     12500\n",
            "\n"
          ]
        }
      ]
    }
  ]
}